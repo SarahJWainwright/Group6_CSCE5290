{
  "nbformat": 4,
  "nbformat_minor": 0,
  "metadata": {
    "colab": {
      "name": "CharformerEngSwe.ipynb",
      "provenance": [],
      "collapsed_sections": [],
      "machine_shape": "hm"
    },
    "kernelspec": {
      "display_name": "Python 3",
      "name": "python3"
    },
    "language_info": {
      "name": "python"
    }
  },
  "cells": [
    {
      "cell_type": "markdown",
      "metadata": {
        "id": "SJUzicrebnTP"
      },
      "source": [
        "# Pytorch Charformer Toxic Comment Classification"
      ]
    },
    {
      "cell_type": "code",
      "metadata": {
        "colab": {
          "base_uri": "https://localhost:8080/"
        },
        "id": "A6mUO4KokGc8",
        "outputId": "3600a16a-7a42-44bd-8012-7b640e7a976a"
      },
      "source": [
        "from google.colab import drive\n",
        "drive.mount('/content/drive')"
      ],
      "execution_count": null,
      "outputs": [
        {
          "name": "stdout",
          "output_type": "stream",
          "text": [
            "Mounted at /content/drive\n"
          ]
        }
      ]
    },
    {
      "cell_type": "code",
      "metadata": {
        "colab": {
          "base_uri": "https://localhost:8080/"
        },
        "id": "7I7bZs4_bmmY",
        "outputId": "fa3f159b-a9f8-41df-f574-f008db0651ab"
      },
      "source": [
        "!pip install charformer-pytorch\n",
        "!pip install transformers\n",
        "!pip install pytorch-model-summary"
      ],
      "execution_count": null,
      "outputs": [
        {
          "name": "stdout",
          "output_type": "stream",
          "text": [
            "Collecting charformer-pytorch\n",
            "  Downloading charformer_pytorch-0.0.4-py3-none-any.whl (4.8 kB)\n",
            "Requirement already satisfied: torch>=1.6 in /usr/local/lib/python3.7/dist-packages (from charformer-pytorch) (1.10.0+cu111)\n",
            "Collecting einops>=0.3\n",
            "  Downloading einops-0.3.2-py3-none-any.whl (25 kB)\n",
            "Requirement already satisfied: typing-extensions in /usr/local/lib/python3.7/dist-packages (from torch>=1.6->charformer-pytorch) (3.10.0.2)\n",
            "Installing collected packages: einops, charformer-pytorch\n",
            "Successfully installed charformer-pytorch-0.0.4 einops-0.3.2\n",
            "Collecting transformers\n",
            "  Downloading transformers-4.12.5-py3-none-any.whl (3.1 MB)\n",
            "\u001b[K     |████████████████████████████████| 3.1 MB 5.4 MB/s \n",
            "\u001b[?25hCollecting tokenizers<0.11,>=0.10.1\n",
            "  Downloading tokenizers-0.10.3-cp37-cp37m-manylinux_2_5_x86_64.manylinux1_x86_64.manylinux_2_12_x86_64.manylinux2010_x86_64.whl (3.3 MB)\n",
            "\u001b[K     |████████████████████████████████| 3.3 MB 17.9 MB/s \n",
            "\u001b[?25hRequirement already satisfied: packaging>=20.0 in /usr/local/lib/python3.7/dist-packages (from transformers) (21.3)\n",
            "Collecting pyyaml>=5.1\n",
            "  Downloading PyYAML-6.0-cp37-cp37m-manylinux_2_5_x86_64.manylinux1_x86_64.manylinux_2_12_x86_64.manylinux2010_x86_64.whl (596 kB)\n",
            "\u001b[K     |████████████████████████████████| 596 kB 72.2 MB/s \n",
            "\u001b[?25hRequirement already satisfied: filelock in /usr/local/lib/python3.7/dist-packages (from transformers) (3.4.0)\n",
            "Requirement already satisfied: numpy>=1.17 in /usr/local/lib/python3.7/dist-packages (from transformers) (1.19.5)\n",
            "Requirement already satisfied: requests in /usr/local/lib/python3.7/dist-packages (from transformers) (2.23.0)\n",
            "Requirement already satisfied: tqdm>=4.27 in /usr/local/lib/python3.7/dist-packages (from transformers) (4.62.3)\n",
            "Requirement already satisfied: importlib-metadata in /usr/local/lib/python3.7/dist-packages (from transformers) (4.8.2)\n",
            "Collecting sacremoses\n",
            "  Downloading sacremoses-0.0.46-py3-none-any.whl (895 kB)\n",
            "\u001b[K     |████████████████████████████████| 895 kB 78.7 MB/s \n",
            "\u001b[?25hCollecting huggingface-hub<1.0,>=0.1.0\n",
            "  Downloading huggingface_hub-0.1.2-py3-none-any.whl (59 kB)\n",
            "\u001b[K     |████████████████████████████████| 59 kB 6.6 MB/s \n",
            "\u001b[?25hRequirement already satisfied: regex!=2019.12.17 in /usr/local/lib/python3.7/dist-packages (from transformers) (2019.12.20)\n",
            "Requirement already satisfied: typing-extensions>=3.7.4.3 in /usr/local/lib/python3.7/dist-packages (from huggingface-hub<1.0,>=0.1.0->transformers) (3.10.0.2)\n",
            "Requirement already satisfied: pyparsing!=3.0.5,>=2.0.2 in /usr/local/lib/python3.7/dist-packages (from packaging>=20.0->transformers) (3.0.6)\n",
            "Requirement already satisfied: zipp>=0.5 in /usr/local/lib/python3.7/dist-packages (from importlib-metadata->transformers) (3.6.0)\n",
            "Requirement already satisfied: idna<3,>=2.5 in /usr/local/lib/python3.7/dist-packages (from requests->transformers) (2.10)\n",
            "Requirement already satisfied: certifi>=2017.4.17 in /usr/local/lib/python3.7/dist-packages (from requests->transformers) (2021.10.8)\n",
            "Requirement already satisfied: urllib3!=1.25.0,!=1.25.1,<1.26,>=1.21.1 in /usr/local/lib/python3.7/dist-packages (from requests->transformers) (1.24.3)\n",
            "Requirement already satisfied: chardet<4,>=3.0.2 in /usr/local/lib/python3.7/dist-packages (from requests->transformers) (3.0.4)\n",
            "Requirement already satisfied: click in /usr/local/lib/python3.7/dist-packages (from sacremoses->transformers) (7.1.2)\n",
            "Requirement already satisfied: six in /usr/local/lib/python3.7/dist-packages (from sacremoses->transformers) (1.15.0)\n",
            "Requirement already satisfied: joblib in /usr/local/lib/python3.7/dist-packages (from sacremoses->transformers) (1.1.0)\n",
            "Installing collected packages: pyyaml, tokenizers, sacremoses, huggingface-hub, transformers\n",
            "  Attempting uninstall: pyyaml\n",
            "    Found existing installation: PyYAML 3.13\n",
            "    Uninstalling PyYAML-3.13:\n",
            "      Successfully uninstalled PyYAML-3.13\n",
            "Successfully installed huggingface-hub-0.1.2 pyyaml-6.0 sacremoses-0.0.46 tokenizers-0.10.3 transformers-4.12.5\n",
            "Collecting pytorch-model-summary\n",
            "  Downloading pytorch_model_summary-0.1.2-py3-none-any.whl (9.3 kB)\n",
            "Requirement already satisfied: torch in /usr/local/lib/python3.7/dist-packages (from pytorch-model-summary) (1.10.0+cu111)\n",
            "Requirement already satisfied: tqdm in /usr/local/lib/python3.7/dist-packages (from pytorch-model-summary) (4.62.3)\n",
            "Requirement already satisfied: numpy in /usr/local/lib/python3.7/dist-packages (from pytorch-model-summary) (1.19.5)\n",
            "Requirement already satisfied: typing-extensions in /usr/local/lib/python3.7/dist-packages (from torch->pytorch-model-summary) (3.10.0.2)\n",
            "Installing collected packages: pytorch-model-summary\n",
            "Successfully installed pytorch-model-summary-0.1.2\n"
          ]
        }
      ]
    },
    {
      "cell_type": "code",
      "metadata": {
        "id": "pf_MJNOacjYS"
      },
      "source": [
        "import torch\n",
        "from charformer_pytorch import GBST\n",
        "import torch.nn.functional as F\n",
        "import re\n",
        "import numpy as np\n",
        "from transformers import T5Model, T5Config, BertConfig, BertModel\n",
        "import tensorflow as tf"
      ],
      "execution_count": null,
      "outputs": []
    },
    {
      "cell_type": "code",
      "metadata": {
        "colab": {
          "base_uri": "https://localhost:8080/"
        },
        "id": "vL90N9IrjcVo",
        "outputId": "54662e19-a17d-4e91-b37d-31a33e06ab45"
      },
      "source": [
        "!unzip /content/drive/MyDrive/processed.zip  -d /content/"
      ],
      "execution_count": null,
      "outputs": [
        {
          "name": "stdout",
          "output_type": "stream",
          "text": [
            "Archive:  /content/drive/MyDrive/processed.zip\n",
            "replace /content/processed/76.npy? [y]es, [n]o, [A]ll, [N]one, [r]ename: N\n",
            "  inflating: /content/processed/183.npy  \n",
            "  inflating: /content/processed/29.npy  \n",
            "  inflating: /content/processed/11.npy  \n",
            "  inflating: /content/processed/13.npy  \n",
            "  inflating: /content/processed/31.npy  \n",
            "  inflating: /content/processed/174.npy  \n",
            "  inflating: /content/processed/168.npy  \n",
            "  inflating: /content/processed/182.npy  \n",
            "  inflating: /content/processed/98.npy  \n",
            "  inflating: /content/processed/178.npy  \n",
            "  inflating: /content/processed/55.npy  \n",
            "  inflating: /content/processed/59.npy  \n",
            "  inflating: /content/processed/159.npy  \n",
            "  inflating: /content/processed/157.npy  \n",
            "  inflating: /content/processed/173.npy  \n",
            "  inflating: /content/processed/7.npy  \n",
            "  inflating: /content/processed/197.npy  \n",
            "  inflating: /content/processed/50.npy  \n",
            "  inflating: /content/processed/198.npy  \n",
            "  inflating: /content/processed/8.npy  \n",
            "  inflating: /content/processed/158.npy  \n",
            "  inflating: /content/processed/73.npy  \n",
            "  inflating: /content/processed/88.npy  \n",
            "  inflating: /content/processed/47.npy  \n",
            "  inflating: /content/processed/39.npy  \n",
            "  inflating: /content/processed/85.npy  \n",
            "  inflating: /content/processed/52.npy  \n",
            "  inflating: /content/processed/164.npy  \n",
            "  inflating: /content/processed/26.npy  \n",
            "  inflating: /content/processed/89.npy  \n",
            "  inflating: /content/processed/83.npy  \n",
            "  inflating: /content/processed/72.npy  \n",
            "  inflating: /content/processed/66.npy  \n",
            "  inflating: /content/processed/48.npy  \n",
            "  inflating: /content/processed/95.npy  \n",
            "  inflating: /content/processed/189.npy  \n",
            "  inflating: /content/processed/57.npy  \n",
            "  inflating: /content/processed/112.npy  \n",
            "  inflating: /content/processed/132.npy  \n",
            "  inflating: /content/processed/1.npy  \n",
            "  inflating: /content/processed/111.npy  \n",
            "  inflating: /content/processed/14.npy  \n",
            "  inflating: /content/processed/44.npy  \n",
            "  inflating: /content/processed/99.npy  \n",
            "  inflating: /content/processed/43.npy  \n",
            "  inflating: /content/processed/149.npy  \n",
            "  inflating: /content/processed/102.npy  \n",
            "  inflating: /content/processed/124.npy  \n",
            "  inflating: /content/processed/91.npy  \n",
            "  inflating: /content/processed/34.npy  \n",
            "  inflating: /content/processed/192.npy  \n",
            "  inflating: /content/processed/45.npy  \n",
            "  inflating: /content/processed/94.npy  \n",
            "  inflating: /content/processed/107.npy  \n",
            "  inflating: /content/processed/133.npy  \n",
            "  inflating: /content/processed/79.npy  \n",
            "  inflating: /content/processed/62.npy  \n",
            "  inflating: /content/processed/2.npy  \n",
            "  inflating: /content/processed/35.npy  \n",
            "  inflating: /content/processed/42.npy  \n",
            "  inflating: /content/processed/115.npy  \n",
            "  inflating: /content/processed/199.npy  \n",
            "  inflating: /content/processed/103.npy  \n",
            "  inflating: /content/processed/58.npy  \n",
            "  inflating: /content/processed/125.npy  \n",
            "  inflating: /content/processed/24.npy  \n",
            "  inflating: /content/processed/64.npy  \n",
            "  inflating: /content/processed/162.npy  \n",
            "  inflating: /content/processed/190.npy  \n",
            "  inflating: /content/processed/122.npy  \n",
            "  inflating: /content/processed/51.npy  \n",
            "  inflating: /content/processed/71.npy  \n",
            "  inflating: /content/processed/141.npy  \n",
            "  inflating: /content/processed/151.npy  \n",
            "  inflating: /content/processed/33.npy  \n",
            "  inflating: /content/processed/146.npy  \n",
            "  inflating: /content/processed/81.npy  \n",
            "  inflating: /content/processed/27.npy  \n",
            "  inflating: /content/processed/131.npy  \n",
            "  inflating: /content/processed/5.npy  \n",
            "  inflating: /content/processed/188.npy  \n",
            "  inflating: /content/processed/113.npy  \n",
            "  inflating: /content/processed/180.npy  \n",
            "  inflating: /content/processed/23.npy  \n",
            "  inflating: /content/processed/109.npy  \n",
            "  inflating: /content/processed/139.npy  \n",
            "  inflating: /content/processed/9.npy  \n",
            "  inflating: /content/processed/155.npy  \n",
            "  inflating: /content/processed/138.npy  \n",
            "  inflating: /content/processed/169.npy  \n",
            "  inflating: /content/processed/41.npy  \n",
            "  inflating: /content/processed/97.npy  \n",
            "  inflating: /content/processed/161.npy  \n",
            "  inflating: /content/processed/119.npy  \n",
            "  inflating: /content/processed/130.npy  \n",
            "  inflating: /content/processed/16.npy  \n",
            "  inflating: /content/processed/78.npy  \n",
            "  inflating: /content/processed/63.npy  \n",
            "  inflating: /content/processed/77.npy  \n",
            "  inflating: /content/processed/156.npy  \n",
            "  inflating: /content/processed/163.npy  \n",
            "  inflating: /content/processed/67.npy  \n",
            "  inflating: /content/processed/68.npy  \n",
            "  inflating: /content/processed/104.npy  \n",
            "  inflating: /content/processed/117.npy  \n",
            "  inflating: /content/processed/93.npy  \n",
            "  inflating: /content/processed/116.npy  \n",
            "  inflating: /content/processed/153.npy  \n",
            "  inflating: /content/processed/165.npy  \n",
            "  inflating: /content/processed/194.npy  \n",
            "  inflating: /content/processed/3.npy  \n",
            "  inflating: /content/processed/195.npy  \n",
            "  inflating: /content/processed/74.npy  \n",
            "  inflating: /content/processed/127.npy  \n",
            "  inflating: /content/processed/191.npy  \n",
            "  inflating: /content/processed/61.npy  \n",
            "  inflating: /content/processed/196.npy  \n",
            "  inflating: /content/processed/4.npy  \n",
            "  inflating: /content/processed/19.npy  \n",
            "  inflating: /content/processed/56.npy  \n",
            "  inflating: /content/processed/40.npy  \n",
            "  inflating: /content/processed/152.npy  \n",
            "  inflating: /content/processed/65.npy  \n",
            "  inflating: /content/processed/18.npy  \n",
            "  inflating: /content/processed/86.npy  \n",
            "  inflating: /content/processed/140.npy  \n",
            "  inflating: /content/processed/70.npy  \n",
            "  inflating: /content/processed/100.npy  \n",
            "  inflating: /content/processed/170.npy  \n",
            "  inflating: /content/processed/186.npy  \n",
            "  inflating: /content/processed/176.npy  \n",
            "  inflating: /content/processed/142.npy  \n",
            "  inflating: /content/processed/6.npy  \n",
            "  inflating: /content/processed/160.npy  \n",
            "  inflating: /content/processed/167.npy  \n",
            "  inflating: /content/processed/25.npy  \n",
            "  inflating: /content/processed/69.npy  \n",
            "  inflating: /content/processed/32.npy  \n",
            "  inflating: /content/processed/136.npy  \n",
            "  inflating: /content/processed/21.npy  \n",
            "  inflating: /content/processed/28.npy  \n",
            "  inflating: /content/processed/54.npy  \n",
            "  inflating: /content/processed/177.npy  \n",
            "  inflating: /content/processed/96.npy  \n",
            "  inflating: /content/processed/185.npy  \n",
            "  inflating: /content/processed/87.npy  \n",
            "  inflating: /content/processed/134.npy  \n",
            "  inflating: /content/processed/75.npy  \n",
            "  inflating: /content/processed/30.npy  \n",
            "  inflating: /content/processed/120.npy  \n",
            "  inflating: /content/processed/84.npy  \n",
            "  inflating: /content/processed/175.npy  \n",
            " extracting: /content/processed/header.txt  \n",
            "  inflating: /content/processed/154.npy  \n",
            "  inflating: /content/processed/36.npy  \n",
            "  inflating: /content/processed/15.npy  \n",
            "  inflating: /content/processed/171.npy  \n",
            "  inflating: /content/processed/10.npy  \n",
            "  inflating: /content/processed/143.npy  \n",
            "  inflating: /content/processed/148.npy  \n",
            "  inflating: /content/processed/128.npy  \n",
            "  inflating: /content/processed/105.npy  \n",
            "  inflating: /content/processed/110.npy  \n",
            "  inflating: /content/processed/181.npy  \n",
            "  inflating: /content/processed/12.npy  \n",
            "  inflating: /content/processed/129.npy  \n",
            "  inflating: /content/processed/172.npy  \n",
            "  inflating: /content/processed/193.npy  \n",
            "  inflating: /content/processed/144.npy  \n",
            "  inflating: /content/processed/17.npy  \n",
            "  inflating: /content/processed/123.npy  \n",
            "  inflating: /content/processed/184.npy  \n",
            "  inflating: /content/processed/20.npy  \n",
            "  inflating: /content/processed/92.npy  \n",
            "  inflating: /content/processed/82.npy  \n"
          ]
        }
      ]
    },
    {
      "cell_type": "code",
      "metadata": {
        "id": "U-vCD--EBQHw"
      },
      "source": [
        "# from pytorch_model_summary import summary\n",
        "# from transformers import AutoTokenizer, AutoModelForSequenceClassification\n",
        "  \n",
        "# tokenizer = AutoTokenizer.from_pretrained(\"unitary/toxic-bert\")\n",
        "\n",
        "# model = AutoModelForSequenceClassification.from_pretrained(\"unitary/toxic-bert\")\n",
        "# print(model)"
      ],
      "execution_count": null,
      "outputs": []
    },
    {
      "cell_type": "code",
      "metadata": {
        "colab": {
          "base_uri": "https://localhost:8080/"
        },
        "id": "KRFy19sFBXkv",
        "outputId": "4fb14402-bc23-43ff-e9f8-33d5a0ecd84a"
      },
      "source": [
        "!unzip sample.zip"
      ],
      "execution_count": null,
      "outputs": [
        {
          "name": "stdout",
          "output_type": "stream",
          "text": [
            "unzip:  cannot find or open sample.zip, sample.zip.zip or sample.zip.ZIP.\n"
          ]
        }
      ]
    },
    {
      "cell_type": "code",
      "metadata": {
        "id": "xOhI9JABF6Vj"
      },
      "source": [
        "from sklearn.model_selection import train_test_split\n",
        "from tqdm import tqdm\n",
        "class Salazzle(torch.nn.Module):\n",
        "    def __init__(self):\n",
        "        super().__init__()\n",
        "        self.tokenizer = GBST(\n",
        "                num_tokens = 257,             # number of tokens, should be 256 for byte encoding (+ 1 special token for padding in this example)\n",
        "                dim = 512,                    # dimension of token and intra-block positional embedding\n",
        "                max_block_size = 4,           # maximum block size\n",
        "                downsample_factor = 4,        # the final downsample factor by which the sequence length will decrease by\n",
        "                score_consensus_attn = True   # whether to do the cheap score consensus (aka attention) as in eq. 5 in the paper\n",
        "                            )\n",
        "        config = BertConfig(vocab_size=257, hidden_size=512, num_attention_heads=8)\n",
        "        self.bert = BertModel(config=config,add_pooling_layer=True)\n",
        "        self.regressor = torch.nn.Linear(512, 1)\n",
        "        self.mask = torch.zeros(1, 1023).bool()\n",
        "        self.loss = torch.nn.MSELoss()\n",
        "        params = list(self.tokenizer.parameters()) + list(self.bert.parameters()) + list(self.regressor.parameters())\n",
        "        self.optimizer = torch.optim.SGD(params, lr=0.00001, momentum=0.8)\n",
        "\n",
        "    def forward(self,  data):\n",
        "        #print(data.shape)\n",
        "        #for row in data:\n",
        "        x, self.mask = self.tokenizer(data, self.mask)\n",
        "        #print(x)\n",
        "        x = x.int()\n",
        "        #print(x.shape) \n",
        "        x = self.bert(inputs_embeds=x,  attention_mask=self.mask)\n",
        "        #print(x)\n",
        "        return self.regressor(x[1])\n",
        "\n",
        "    def train(self, data, labels, batch_size=20):\n",
        "\n",
        "        xt, xv, yt, yv = train_test_split(data, labels, random_state=23, \n",
        "                                               test_size=.2, train_size=.8)\n",
        "        tsteps = int(len(xt)/batch_size)\n",
        "        vsteps = int(len(xv)/batch_size)\n",
        "        #tsteps = int(len(data)/batch_size)\n",
        "        #vsteps = int(len(data)/batch_size)\n",
        "        ltotal = 0\n",
        "        for i in tqdm(range(tsteps)):\n",
        "            self.optimizer.zero_grad()\n",
        "            self.mask = torch.zeros(1, 1023).bool()\n",
        "            a, b = (i*batch_size, (i+1)*batch_size)\n",
        "            x, y = (xt[a:b],yt[a:b])\n",
        "            #x, y = (data[a:b],labels[a:b])\n",
        "            pred = self.forward(x)\n",
        "            #print(y)\n",
        "            output = self.loss(pred, y)\n",
        "            output.backward()\n",
        "            self.optimizer.step()\n",
        "\n",
        "            print(f'Loss: {output}')\n",
        "        '''for i in tqdm(range(vsteps)):\n",
        "            self.mask = torch.zeros(1, 1023).bool()\n",
        "            a, b = (i*batch_size, (i+1)*batch_size)\n",
        "            x, y = (xv[a:b],yv[a:b])\n",
        "            pred = self.forward(x)\n",
        "            output = self.loss(pred, y)\n",
        "            ltotal += output\n",
        "            print(f'Valid Total Loss: {ltotal}')'''\n",
        "\n",
        "def preprocess(data, padding=1023):\n",
        "    def b2(str):\n",
        "        return [ord(x) for x in str]\n",
        "    texts = []\n",
        "    labels = []\n",
        "    i = 0\n",
        "    for row in data:\n",
        "        text = re.sub('’', '\\'', row[0])\n",
        "        text = re.sub(r\"[^a-zA-Z0-9\\', *\\u2019-]\", '', text)\n",
        "        #print(text)\n",
        "        texts.append(b2(text))\n",
        "        #print(i, b2(text))\n",
        "        labels.append([float(row[-1])])\n",
        "        i += 1\n",
        "    #print(np.array(texts).shape)\n",
        "    #print(max([max(row) for row in texts]))\n",
        "    #print(min([min(row) for row in texts]))\n",
        "    #print(type(labels[0]))\n",
        "    texts = np.array([np.pad(x, (0, padding-len(x))) for x in texts], dtype=np.int32)\n",
        "    #print(texts[840:845])\n",
        "\n",
        "    return torch.tensor(texts), torch.tensor(labels)\n",
        "\n",
        "\n",
        "\n",
        "\n",
        "        "
      ],
      "execution_count": null,
      "outputs": []
    },
    {
      "cell_type": "code",
      "metadata": {
        "colab": {
          "base_uri": "https://localhost:8080/",
          "height": 300
        },
        "id": "MPHyoc5NtpoC",
        "outputId": "b81315c2-1be4-4596-bdea-e95dcc88ec54"
      },
      "source": [
        "data = np.load('23.npy')\n",
        "pokemodel = Salazzle()"
      ],
      "execution_count": null,
      "outputs": [
        {
          "ename": "FileNotFoundError",
          "evalue": "ignored",
          "output_type": "error",
          "traceback": [
            "\u001b[0;31m---------------------------------------------------------------------------\u001b[0m",
            "\u001b[0;31mFileNotFoundError\u001b[0m                         Traceback (most recent call last)",
            "\u001b[0;32m<ipython-input-14-46a6585f60f5>\u001b[0m in \u001b[0;36m<module>\u001b[0;34m()\u001b[0m\n\u001b[0;32m----> 1\u001b[0;31m \u001b[0mdata\u001b[0m \u001b[0;34m=\u001b[0m \u001b[0mnp\u001b[0m\u001b[0;34m.\u001b[0m\u001b[0mload\u001b[0m\u001b[0;34m(\u001b[0m\u001b[0;34m'23.npy'\u001b[0m\u001b[0;34m)\u001b[0m\u001b[0;34m\u001b[0m\u001b[0;34m\u001b[0m\u001b[0m\n\u001b[0m\u001b[1;32m      2\u001b[0m \u001b[0mpokemodel\u001b[0m \u001b[0;34m=\u001b[0m \u001b[0mSalazzle\u001b[0m\u001b[0;34m(\u001b[0m\u001b[0;34m)\u001b[0m\u001b[0;34m\u001b[0m\u001b[0;34m\u001b[0m\u001b[0m\n",
            "\u001b[0;32m/usr/local/lib/python3.7/dist-packages/numpy/lib/npyio.py\u001b[0m in \u001b[0;36mload\u001b[0;34m(file, mmap_mode, allow_pickle, fix_imports, encoding)\u001b[0m\n\u001b[1;32m    414\u001b[0m             \u001b[0mown_fid\u001b[0m \u001b[0;34m=\u001b[0m \u001b[0;32mFalse\u001b[0m\u001b[0;34m\u001b[0m\u001b[0;34m\u001b[0m\u001b[0m\n\u001b[1;32m    415\u001b[0m         \u001b[0;32melse\u001b[0m\u001b[0;34m:\u001b[0m\u001b[0;34m\u001b[0m\u001b[0;34m\u001b[0m\u001b[0m\n\u001b[0;32m--> 416\u001b[0;31m             \u001b[0mfid\u001b[0m \u001b[0;34m=\u001b[0m \u001b[0mstack\u001b[0m\u001b[0;34m.\u001b[0m\u001b[0menter_context\u001b[0m\u001b[0;34m(\u001b[0m\u001b[0mopen\u001b[0m\u001b[0;34m(\u001b[0m\u001b[0mos_fspath\u001b[0m\u001b[0;34m(\u001b[0m\u001b[0mfile\u001b[0m\u001b[0;34m)\u001b[0m\u001b[0;34m,\u001b[0m \u001b[0;34m\"rb\"\u001b[0m\u001b[0;34m)\u001b[0m\u001b[0;34m)\u001b[0m\u001b[0;34m\u001b[0m\u001b[0;34m\u001b[0m\u001b[0m\n\u001b[0m\u001b[1;32m    417\u001b[0m             \u001b[0mown_fid\u001b[0m \u001b[0;34m=\u001b[0m \u001b[0;32mTrue\u001b[0m\u001b[0;34m\u001b[0m\u001b[0;34m\u001b[0m\u001b[0m\n\u001b[1;32m    418\u001b[0m \u001b[0;34m\u001b[0m\u001b[0m\n",
            "\u001b[0;31mFileNotFoundError\u001b[0m: [Errno 2] No such file or directory: '23.npy'"
          ]
        }
      ]
    },
    {
      "cell_type": "code",
      "metadata": {
        "colab": {
          "background_save": true,
          "base_uri": "https://localhost:8080/",
          "height": 198
        },
        "id": "6ooglDxytwAh",
        "outputId": "12a52b10-1f02-404b-f4f3-69cb97c016bd"
      },
      "source": [
        "texts, labels = preprocess(data)\n",
        "#print(texts.shape)\n",
        "pokemodel.train(texts, labels)"
      ],
      "execution_count": null,
      "outputs": [
        {
          "name": "stderr",
          "output_type": "stream",
          "text": [
            "  0%|          | 1/400 [00:43<4:48:25, 43.37s/it]"
          ]
        },
        {
          "name": "stdout",
          "output_type": "stream",
          "text": [
            "Loss: 0.12115563452243805\n"
          ]
        },
        {
          "name": "stderr",
          "output_type": "stream",
          "text": [
            "\r  0%|          | 2/400 [01:24<4:37:10, 41.78s/it]"
          ]
        },
        {
          "name": "stdout",
          "output_type": "stream",
          "text": [
            "Loss: 0.11111140251159668\n"
          ]
        },
        {
          "name": "stderr",
          "output_type": "stream",
          "text": [
            "\r  1%|          | 3/400 [02:04<4:32:23, 41.17s/it]"
          ]
        },
        {
          "name": "stdout",
          "output_type": "stream",
          "text": [
            "Loss: 0.12689876556396484\n"
          ]
        },
        {
          "name": "stderr",
          "output_type": "stream",
          "text": [
            "\r  1%|          | 4/400 [02:44<4:29:54, 40.90s/it]"
          ]
        },
        {
          "name": "stdout",
          "output_type": "stream",
          "text": [
            "Loss: 0.09982364624738693\n"
          ]
        },
        {
          "name": "stderr",
          "output_type": "stream",
          "text": [
            "\r  1%|▏         | 5/400 [03:25<4:28:23, 40.77s/it]"
          ]
        },
        {
          "name": "stdout",
          "output_type": "stream",
          "text": [
            "Loss: 0.10874775797128677\n"
          ]
        },
        {
          "name": "stderr",
          "output_type": "stream",
          "text": [
            "\r  2%|▏         | 6/400 [04:06<4:27:18, 40.71s/it]"
          ]
        },
        {
          "name": "stdout",
          "output_type": "stream",
          "text": [
            "Loss: 0.12380950152873993\n"
          ]
        },
        {
          "name": "stderr",
          "output_type": "stream",
          "text": [
            "\r  2%|▏         | 7/400 [04:46<4:25:59, 40.61s/it]"
          ]
        },
        {
          "name": "stdout",
          "output_type": "stream",
          "text": [
            "Loss: 0.09732959419488907\n"
          ]
        },
        {
          "name": "stderr",
          "output_type": "stream",
          "text": [
            "\r  2%|▏         | 8/400 [05:26<4:25:01, 40.56s/it]"
          ]
        },
        {
          "name": "stdout",
          "output_type": "stream",
          "text": [
            "Loss: 0.07542931288480759\n"
          ]
        },
        {
          "name": "stderr",
          "output_type": "stream",
          "text": [
            "\r  2%|▏         | 9/400 [06:07<4:24:08, 40.53s/it]"
          ]
        },
        {
          "name": "stdout",
          "output_type": "stream",
          "text": [
            "Loss: 0.07816164195537567\n"
          ]
        },
        {
          "name": "stderr",
          "output_type": "stream",
          "text": [
            "\r  2%|▎         | 10/400 [06:47<4:23:12, 40.49s/it]"
          ]
        },
        {
          "name": "stdout",
          "output_type": "stream",
          "text": [
            "Loss: 0.08054488897323608\n"
          ]
        },
        {
          "name": "stderr",
          "output_type": "stream",
          "text": [
            "\r  3%|▎         | 11/400 [07:28<4:22:24, 40.47s/it]"
          ]
        },
        {
          "name": "stdout",
          "output_type": "stream",
          "text": [
            "Loss: 0.060714684426784515\n"
          ]
        },
        {
          "name": "stderr",
          "output_type": "stream",
          "text": [
            "\r  3%|▎         | 12/400 [08:08<4:21:33, 40.45s/it]"
          ]
        },
        {
          "name": "stdout",
          "output_type": "stream",
          "text": [
            "Loss: 0.05413977429270744\n"
          ]
        },
        {
          "name": "stderr",
          "output_type": "stream",
          "text": [
            "\r  3%|▎         | 13/400 [08:49<4:20:52, 40.45s/it]"
          ]
        },
        {
          "name": "stdout",
          "output_type": "stream",
          "text": [
            "Loss: 0.05207612365484238\n"
          ]
        },
        {
          "name": "stderr",
          "output_type": "stream",
          "text": [
            "\r  4%|▎         | 14/400 [09:33<4:28:51, 41.79s/it]"
          ]
        },
        {
          "name": "stdout",
          "output_type": "stream",
          "text": [
            "Loss: 0.0455864742398262\n"
          ]
        },
        {
          "name": "stderr",
          "output_type": "stream",
          "text": [
            "\r  4%|▍         | 15/400 [10:14<4:25:57, 41.45s/it]"
          ]
        },
        {
          "name": "stdout",
          "output_type": "stream",
          "text": [
            "Loss: 0.06633007526397705\n"
          ]
        },
        {
          "name": "stderr",
          "output_type": "stream",
          "text": [
            "\r  4%|▍         | 16/400 [10:55<4:23:36, 41.19s/it]"
          ]
        },
        {
          "name": "stdout",
          "output_type": "stream",
          "text": [
            "Loss: 0.049855850636959076\n"
          ]
        },
        {
          "name": "stderr",
          "output_type": "stream",
          "text": [
            "\r  4%|▍         | 17/400 [11:35<4:21:39, 40.99s/it]"
          ]
        },
        {
          "name": "stdout",
          "output_type": "stream",
          "text": [
            "Loss: 0.05427755042910576\n"
          ]
        },
        {
          "name": "stderr",
          "output_type": "stream",
          "text": [
            "\r  4%|▍         | 18/400 [12:16<4:20:11, 40.87s/it]"
          ]
        },
        {
          "name": "stdout",
          "output_type": "stream",
          "text": [
            "Loss: 0.03670340031385422\n"
          ]
        },
        {
          "name": "stderr",
          "output_type": "stream",
          "text": [
            "\r  5%|▍         | 19/400 [12:56<4:18:54, 40.77s/it]"
          ]
        },
        {
          "name": "stdout",
          "output_type": "stream",
          "text": [
            "Loss: 0.03872830793261528\n"
          ]
        },
        {
          "name": "stderr",
          "output_type": "stream",
          "text": [
            "\r  5%|▌         | 20/400 [13:37<4:17:48, 40.71s/it]"
          ]
        },
        {
          "name": "stdout",
          "output_type": "stream",
          "text": [
            "Loss: 0.026777517050504684\n"
          ]
        },
        {
          "name": "stderr",
          "output_type": "stream",
          "text": [
            "\r  5%|▌         | 21/400 [14:18<4:17:03, 40.70s/it]"
          ]
        },
        {
          "name": "stdout",
          "output_type": "stream",
          "text": [
            "Loss: 0.014343617483973503\n"
          ]
        },
        {
          "name": "stderr",
          "output_type": "stream",
          "text": [
            "\r  6%|▌         | 22/400 [14:58<4:16:13, 40.67s/it]"
          ]
        },
        {
          "name": "stdout",
          "output_type": "stream",
          "text": [
            "Loss: 0.027005556970834732\n"
          ]
        },
        {
          "name": "stderr",
          "output_type": "stream",
          "text": [
            "\r  6%|▌         | 23/400 [15:39<4:15:21, 40.64s/it]"
          ]
        },
        {
          "name": "stdout",
          "output_type": "stream",
          "text": [
            "Loss: 0.031197914853692055\n"
          ]
        },
        {
          "name": "stderr",
          "output_type": "stream",
          "text": [
            "\r  6%|▌         | 24/400 [16:19<4:14:31, 40.61s/it]"
          ]
        },
        {
          "name": "stdout",
          "output_type": "stream",
          "text": [
            "Loss: 0.024371543899178505\n"
          ]
        },
        {
          "name": "stderr",
          "output_type": "stream",
          "text": [
            "\r  6%|▋         | 25/400 [17:00<4:13:42, 40.59s/it]"
          ]
        },
        {
          "name": "stdout",
          "output_type": "stream",
          "text": [
            "Loss: 0.023358967155218124\n"
          ]
        },
        {
          "name": "stderr",
          "output_type": "stream",
          "text": [
            "\r  6%|▋         | 26/400 [17:41<4:13:05, 40.60s/it]"
          ]
        },
        {
          "name": "stdout",
          "output_type": "stream",
          "text": [
            "Loss: 0.028871512040495872\n"
          ]
        },
        {
          "name": "stderr",
          "output_type": "stream",
          "text": [
            "\r  7%|▋         | 27/400 [18:21<4:12:21, 40.60s/it]"
          ]
        },
        {
          "name": "stdout",
          "output_type": "stream",
          "text": [
            "Loss: 0.020891783758997917\n"
          ]
        },
        {
          "name": "stderr",
          "output_type": "stream",
          "text": [
            "\r  7%|▋         | 28/400 [19:02<4:11:38, 40.59s/it]"
          ]
        },
        {
          "name": "stdout",
          "output_type": "stream",
          "text": [
            "Loss: 0.013915985822677612\n"
          ]
        },
        {
          "name": "stderr",
          "output_type": "stream",
          "text": [
            "\r  7%|▋         | 29/400 [19:42<4:11:05, 40.61s/it]"
          ]
        },
        {
          "name": "stdout",
          "output_type": "stream",
          "text": [
            "Loss: 0.020738612860441208\n"
          ]
        },
        {
          "name": "stderr",
          "output_type": "stream",
          "text": [
            "\r  8%|▊         | 30/400 [20:23<4:10:26, 40.61s/it]"
          ]
        },
        {
          "name": "stdout",
          "output_type": "stream",
          "text": [
            "Loss: 0.015450863167643547\n"
          ]
        },
        {
          "name": "stderr",
          "output_type": "stream",
          "text": [
            "\r  8%|▊         | 31/400 [21:04<4:09:58, 40.65s/it]"
          ]
        },
        {
          "name": "stdout",
          "output_type": "stream",
          "text": [
            "Loss: 0.013184651732444763\n"
          ]
        },
        {
          "name": "stderr",
          "output_type": "stream",
          "text": [
            "\r  8%|▊         | 32/400 [21:44<4:09:05, 40.61s/it]"
          ]
        },
        {
          "name": "stdout",
          "output_type": "stream",
          "text": [
            "Loss: 0.009305167943239212\n"
          ]
        },
        {
          "name": "stderr",
          "output_type": "stream",
          "text": [
            "\r  8%|▊         | 33/400 [22:25<4:08:18, 40.60s/it]"
          ]
        },
        {
          "name": "stdout",
          "output_type": "stream",
          "text": [
            "Loss: 0.013292712159454823\n"
          ]
        },
        {
          "name": "stderr",
          "output_type": "stream",
          "text": [
            "\r  8%|▊         | 34/400 [23:05<4:07:39, 40.60s/it]"
          ]
        },
        {
          "name": "stdout",
          "output_type": "stream",
          "text": [
            "Loss: 0.014803665690124035\n"
          ]
        },
        {
          "name": "stderr",
          "output_type": "stream",
          "text": [
            "\r  9%|▉         | 35/400 [23:46<4:06:59, 40.60s/it]"
          ]
        },
        {
          "name": "stdout",
          "output_type": "stream",
          "text": [
            "Loss: 0.02063876762986183\n"
          ]
        },
        {
          "name": "stderr",
          "output_type": "stream",
          "text": [
            "\r  9%|▉         | 36/400 [24:27<4:06:24, 40.62s/it]"
          ]
        },
        {
          "name": "stdout",
          "output_type": "stream",
          "text": [
            "Loss: 0.00777837261557579\n"
          ]
        },
        {
          "name": "stderr",
          "output_type": "stream",
          "text": [
            "\r  9%|▉         | 37/400 [25:07<4:05:45, 40.62s/it]"
          ]
        },
        {
          "name": "stdout",
          "output_type": "stream",
          "text": [
            "Loss: 0.006211085710674524\n"
          ]
        },
        {
          "name": "stderr",
          "output_type": "stream",
          "text": [
            "\r 10%|▉         | 38/400 [25:48<4:05:01, 40.61s/it]"
          ]
        },
        {
          "name": "stdout",
          "output_type": "stream",
          "text": [
            "Loss: 0.012832270935177803\n"
          ]
        },
        {
          "name": "stderr",
          "output_type": "stream",
          "text": [
            "\r 10%|▉         | 39/400 [26:29<4:04:26, 40.63s/it]"
          ]
        },
        {
          "name": "stdout",
          "output_type": "stream",
          "text": [
            "Loss: 0.016451701521873474\n"
          ]
        },
        {
          "name": "stderr",
          "output_type": "stream",
          "text": [
            "\r 10%|█         | 40/400 [27:09<4:03:43, 40.62s/it]"
          ]
        },
        {
          "name": "stdout",
          "output_type": "stream",
          "text": [
            "Loss: 0.00938449241220951\n"
          ]
        },
        {
          "name": "stderr",
          "output_type": "stream",
          "text": [
            "\r 10%|█         | 41/400 [27:50<4:02:51, 40.59s/it]"
          ]
        },
        {
          "name": "stdout",
          "output_type": "stream",
          "text": [
            "Loss: 0.010798610746860504\n"
          ]
        },
        {
          "name": "stderr",
          "output_type": "stream",
          "text": [
            "\r 10%|█         | 42/400 [28:30<4:02:15, 40.60s/it]"
          ]
        },
        {
          "name": "stdout",
          "output_type": "stream",
          "text": [
            "Loss: 0.01694066822528839\n"
          ]
        },
        {
          "name": "stderr",
          "output_type": "stream",
          "text": [
            "\r 11%|█         | 43/400 [29:11<4:01:35, 40.60s/it]"
          ]
        },
        {
          "name": "stdout",
          "output_type": "stream",
          "text": [
            "Loss: 0.009702978655695915\n"
          ]
        },
        {
          "name": "stderr",
          "output_type": "stream",
          "text": [
            "\r 11%|█         | 44/400 [29:52<4:00:58, 40.61s/it]"
          ]
        },
        {
          "name": "stdout",
          "output_type": "stream",
          "text": [
            "Loss: 0.009424935095012188\n"
          ]
        },
        {
          "name": "stderr",
          "output_type": "stream",
          "text": [
            "\r 11%|█▏        | 45/400 [30:32<4:00:23, 40.63s/it]"
          ]
        },
        {
          "name": "stdout",
          "output_type": "stream",
          "text": [
            "Loss: 0.0133982477709651\n"
          ]
        },
        {
          "name": "stderr",
          "output_type": "stream",
          "text": [
            "\r 12%|█▏        | 46/400 [31:13<3:59:38, 40.62s/it]"
          ]
        },
        {
          "name": "stdout",
          "output_type": "stream",
          "text": [
            "Loss: 0.012499986216425896\n"
          ]
        },
        {
          "name": "stderr",
          "output_type": "stream",
          "text": [
            "\r 12%|█▏        | 47/400 [31:53<3:58:56, 40.61s/it]"
          ]
        },
        {
          "name": "stdout",
          "output_type": "stream",
          "text": [
            "Loss: 0.011144159361720085\n"
          ]
        },
        {
          "name": "stderr",
          "output_type": "stream",
          "text": [
            "\r 12%|█▏        | 48/400 [32:34<3:58:10, 40.60s/it]"
          ]
        },
        {
          "name": "stdout",
          "output_type": "stream",
          "text": [
            "Loss: 0.007315286435186863\n"
          ]
        },
        {
          "name": "stderr",
          "output_type": "stream",
          "text": [
            "\r 12%|█▏        | 49/400 [33:14<3:57:25, 40.59s/it]"
          ]
        },
        {
          "name": "stdout",
          "output_type": "stream",
          "text": [
            "Loss: 0.00663397554308176\n"
          ]
        },
        {
          "name": "stderr",
          "output_type": "stream",
          "text": [
            "\r 12%|█▎        | 50/400 [33:55<3:56:41, 40.58s/it]"
          ]
        },
        {
          "name": "stdout",
          "output_type": "stream",
          "text": [
            "Loss: 0.008314721286296844\n"
          ]
        },
        {
          "name": "stderr",
          "output_type": "stream",
          "text": [
            "\r 13%|█▎        | 51/400 [34:36<3:56:00, 40.57s/it]"
          ]
        },
        {
          "name": "stdout",
          "output_type": "stream",
          "text": [
            "Loss: 0.007084337063133717\n"
          ]
        },
        {
          "name": "stderr",
          "output_type": "stream",
          "text": [
            "\r 13%|█▎        | 52/400 [35:16<3:55:23, 40.59s/it]"
          ]
        },
        {
          "name": "stdout",
          "output_type": "stream",
          "text": [
            "Loss: 0.006111979950219393\n"
          ]
        },
        {
          "name": "stderr",
          "output_type": "stream",
          "text": [
            "\r 13%|█▎        | 53/400 [35:57<3:54:45, 40.59s/it]"
          ]
        },
        {
          "name": "stdout",
          "output_type": "stream",
          "text": [
            "Loss: 0.010968111455440521\n"
          ]
        },
        {
          "name": "stderr",
          "output_type": "stream",
          "text": [
            "\r 14%|█▎        | 54/400 [36:37<3:54:06, 40.60s/it]"
          ]
        },
        {
          "name": "stdout",
          "output_type": "stream",
          "text": [
            "Loss: 0.006413421127945185\n"
          ]
        },
        {
          "name": "stderr",
          "output_type": "stream",
          "text": [
            "\r 14%|█▍        | 55/400 [37:18<3:53:26, 40.60s/it]"
          ]
        },
        {
          "name": "stdout",
          "output_type": "stream",
          "text": [
            "Loss: 0.006069967523217201\n"
          ]
        },
        {
          "name": "stderr",
          "output_type": "stream",
          "text": [
            "\r 14%|█▍        | 56/400 [37:59<3:52:40, 40.58s/it]"
          ]
        },
        {
          "name": "stdout",
          "output_type": "stream",
          "text": [
            "Loss: 0.006550104357302189\n"
          ]
        },
        {
          "name": "stderr",
          "output_type": "stream",
          "text": [
            "\r 14%|█▍        | 57/400 [38:39<3:51:59, 40.58s/it]"
          ]
        },
        {
          "name": "stdout",
          "output_type": "stream",
          "text": [
            "Loss: 0.005445919930934906\n"
          ]
        },
        {
          "name": "stderr",
          "output_type": "stream",
          "text": [
            "\r 14%|█▍        | 58/400 [39:20<3:51:29, 40.61s/it]"
          ]
        },
        {
          "name": "stdout",
          "output_type": "stream",
          "text": [
            "Loss: 0.013421179726719856\n"
          ]
        },
        {
          "name": "stderr",
          "output_type": "stream",
          "text": [
            "\r 15%|█▍        | 59/400 [40:01<3:50:54, 40.63s/it]"
          ]
        },
        {
          "name": "stdout",
          "output_type": "stream",
          "text": [
            "Loss: 0.0072797322645783424\n"
          ]
        },
        {
          "name": "stderr",
          "output_type": "stream",
          "text": [
            "\r 15%|█▌        | 60/400 [40:41<3:50:10, 40.62s/it]"
          ]
        },
        {
          "name": "stdout",
          "output_type": "stream",
          "text": [
            "Loss: 0.013401078060269356\n"
          ]
        },
        {
          "name": "stderr",
          "output_type": "stream",
          "text": [
            "\r 15%|█▌        | 61/400 [41:22<3:49:24, 40.60s/it]"
          ]
        },
        {
          "name": "stdout",
          "output_type": "stream",
          "text": [
            "Loss: 0.021256282925605774\n"
          ]
        },
        {
          "name": "stderr",
          "output_type": "stream",
          "text": [
            "\r 16%|█▌        | 62/400 [42:02<3:48:45, 40.61s/it]"
          ]
        },
        {
          "name": "stdout",
          "output_type": "stream",
          "text": [
            "Loss: 0.015866469591856003\n"
          ]
        },
        {
          "name": "stderr",
          "output_type": "stream",
          "text": [
            "\r 16%|█▌        | 63/400 [42:43<3:48:01, 40.60s/it]"
          ]
        },
        {
          "name": "stdout",
          "output_type": "stream",
          "text": [
            "Loss: 0.006436253432184458\n"
          ]
        },
        {
          "name": "stderr",
          "output_type": "stream",
          "text": [
            "\r 16%|█▌        | 64/400 [43:23<3:47:10, 40.57s/it]"
          ]
        },
        {
          "name": "stdout",
          "output_type": "stream",
          "text": [
            "Loss: 0.009478574618697166\n"
          ]
        },
        {
          "name": "stderr",
          "output_type": "stream",
          "text": [
            "\r 16%|█▋        | 65/400 [44:04<3:46:25, 40.55s/it]"
          ]
        },
        {
          "name": "stdout",
          "output_type": "stream",
          "text": [
            "Loss: 0.009235895238816738\n"
          ]
        },
        {
          "name": "stderr",
          "output_type": "stream",
          "text": [
            "\r 16%|█▋        | 66/400 [44:44<3:45:49, 40.57s/it]"
          ]
        },
        {
          "name": "stdout",
          "output_type": "stream",
          "text": [
            "Loss: 0.009580589830875397\n"
          ]
        },
        {
          "name": "stderr",
          "output_type": "stream",
          "text": [
            "\r 17%|█▋        | 67/400 [45:25<3:45:18, 40.60s/it]"
          ]
        },
        {
          "name": "stdout",
          "output_type": "stream",
          "text": [
            "Loss: 0.005105790216475725\n"
          ]
        },
        {
          "name": "stderr",
          "output_type": "stream",
          "text": [
            "\r 17%|█▋        | 68/400 [46:06<3:44:35, 40.59s/it]"
          ]
        },
        {
          "name": "stdout",
          "output_type": "stream",
          "text": [
            "Loss: 0.003985217772424221\n"
          ]
        },
        {
          "name": "stderr",
          "output_type": "stream",
          "text": [
            "\r 17%|█▋        | 69/400 [46:46<3:43:49, 40.57s/it]"
          ]
        },
        {
          "name": "stdout",
          "output_type": "stream",
          "text": [
            "Loss: 0.007463420275598764\n"
          ]
        },
        {
          "name": "stderr",
          "output_type": "stream",
          "text": [
            "\r 18%|█▊        | 70/400 [47:27<3:43:14, 40.59s/it]"
          ]
        },
        {
          "name": "stdout",
          "output_type": "stream",
          "text": [
            "Loss: 0.00747892539948225\n"
          ]
        },
        {
          "name": "stderr",
          "output_type": "stream",
          "text": [
            "\r 18%|█▊        | 71/400 [48:07<3:42:29, 40.58s/it]"
          ]
        },
        {
          "name": "stdout",
          "output_type": "stream",
          "text": [
            "Loss: 0.008146494626998901\n"
          ]
        },
        {
          "name": "stderr",
          "output_type": "stream",
          "text": [
            "\r 18%|█▊        | 72/400 [48:48<3:41:42, 40.56s/it]"
          ]
        },
        {
          "name": "stdout",
          "output_type": "stream",
          "text": [
            "Loss: 0.010057749226689339\n"
          ]
        },
        {
          "name": "stderr",
          "output_type": "stream",
          "text": [
            "\r 18%|█▊        | 73/400 [49:29<3:41:07, 40.57s/it]"
          ]
        },
        {
          "name": "stdout",
          "output_type": "stream",
          "text": [
            "Loss: 0.00626388331875205\n"
          ]
        },
        {
          "name": "stderr",
          "output_type": "stream",
          "text": [
            "\r 18%|█▊        | 74/400 [50:09<3:40:29, 40.58s/it]"
          ]
        },
        {
          "name": "stdout",
          "output_type": "stream",
          "text": [
            "Loss: 0.009054913185536861\n"
          ]
        },
        {
          "name": "stderr",
          "output_type": "stream",
          "text": [
            "\r 19%|█▉        | 75/400 [50:50<3:39:48, 40.58s/it]"
          ]
        },
        {
          "name": "stdout",
          "output_type": "stream",
          "text": [
            "Loss: 0.01262194849550724\n"
          ]
        },
        {
          "name": "stderr",
          "output_type": "stream",
          "text": [
            "\r 19%|█▉        | 76/400 [51:30<3:39:10, 40.59s/it]"
          ]
        },
        {
          "name": "stdout",
          "output_type": "stream",
          "text": [
            "Loss: 0.01261152047663927\n"
          ]
        },
        {
          "name": "stderr",
          "output_type": "stream",
          "text": [
            "\r 19%|█▉        | 77/400 [52:11<3:38:28, 40.58s/it]"
          ]
        },
        {
          "name": "stdout",
          "output_type": "stream",
          "text": [
            "Loss: 0.0071588605642318726\n"
          ]
        },
        {
          "name": "stderr",
          "output_type": "stream",
          "text": [
            "\r 20%|█▉        | 78/400 [52:51<3:37:47, 40.58s/it]"
          ]
        },
        {
          "name": "stdout",
          "output_type": "stream",
          "text": [
            "Loss: 0.008046655915677547\n"
          ]
        },
        {
          "name": "stderr",
          "output_type": "stream",
          "text": [
            "\r 20%|█▉        | 79/400 [53:32<3:37:02, 40.57s/it]"
          ]
        },
        {
          "name": "stdout",
          "output_type": "stream",
          "text": [
            "Loss: 0.01110897958278656\n"
          ]
        },
        {
          "name": "stderr",
          "output_type": "stream",
          "text": [
            "\r 20%|██        | 80/400 [54:13<3:36:27, 40.59s/it]"
          ]
        },
        {
          "name": "stdout",
          "output_type": "stream",
          "text": [
            "Loss: 0.014061947353184223\n"
          ]
        },
        {
          "name": "stderr",
          "output_type": "stream",
          "text": [
            "\r 20%|██        | 81/400 [54:53<3:35:46, 40.59s/it]"
          ]
        },
        {
          "name": "stdout",
          "output_type": "stream",
          "text": [
            "Loss: 0.010428208857774734\n"
          ]
        },
        {
          "name": "stderr",
          "output_type": "stream",
          "text": [
            "\r 20%|██        | 82/400 [55:34<3:35:13, 40.61s/it]"
          ]
        },
        {
          "name": "stdout",
          "output_type": "stream",
          "text": [
            "Loss: 0.011886203661561012\n"
          ]
        },
        {
          "name": "stderr",
          "output_type": "stream",
          "text": [
            "\r 21%|██        | 83/400 [56:15<3:34:36, 40.62s/it]"
          ]
        },
        {
          "name": "stdout",
          "output_type": "stream",
          "text": [
            "Loss: 0.012045958079397678\n"
          ]
        },
        {
          "name": "stderr",
          "output_type": "stream",
          "text": [
            "\r 21%|██        | 84/400 [56:55<3:33:51, 40.61s/it]"
          ]
        },
        {
          "name": "stdout",
          "output_type": "stream",
          "text": [
            "Loss: 0.01052058581262827\n"
          ]
        },
        {
          "name": "stderr",
          "output_type": "stream",
          "text": [
            "\r 21%|██▏       | 85/400 [57:36<3:33:03, 40.58s/it]"
          ]
        },
        {
          "name": "stdout",
          "output_type": "stream",
          "text": [
            "Loss: 0.013103276491165161\n"
          ]
        },
        {
          "name": "stderr",
          "output_type": "stream",
          "text": [
            "\r 22%|██▏       | 86/400 [58:16<3:32:20, 40.57s/it]"
          ]
        },
        {
          "name": "stdout",
          "output_type": "stream",
          "text": [
            "Loss: 0.011326804757118225\n"
          ]
        },
        {
          "name": "stderr",
          "output_type": "stream",
          "text": [
            "\r 22%|██▏       | 87/400 [58:57<3:31:36, 40.57s/it]"
          ]
        },
        {
          "name": "stdout",
          "output_type": "stream",
          "text": [
            "Loss: 0.009819747880101204\n"
          ]
        },
        {
          "name": "stderr",
          "output_type": "stream",
          "text": [
            "\r 22%|██▏       | 88/400 [59:37<3:30:57, 40.57s/it]"
          ]
        },
        {
          "name": "stdout",
          "output_type": "stream",
          "text": [
            "Loss: 0.009047926403582096\n"
          ]
        },
        {
          "name": "stderr",
          "output_type": "stream",
          "text": [
            "\r 22%|██▏       | 89/400 [1:00:18<3:30:28, 40.61s/it]"
          ]
        },
        {
          "name": "stdout",
          "output_type": "stream",
          "text": [
            "Loss: 0.009308269247412682\n"
          ]
        },
        {
          "name": "stderr",
          "output_type": "stream",
          "text": [
            "\r 22%|██▎       | 90/400 [1:00:59<3:29:46, 40.60s/it]"
          ]
        },
        {
          "name": "stdout",
          "output_type": "stream",
          "text": [
            "Loss: 0.005161583423614502\n"
          ]
        },
        {
          "name": "stderr",
          "output_type": "stream",
          "text": [
            "\r 23%|██▎       | 91/400 [1:01:39<3:29:00, 40.58s/it]"
          ]
        },
        {
          "name": "stdout",
          "output_type": "stream",
          "text": [
            "Loss: 0.00736551359295845\n"
          ]
        },
        {
          "name": "stderr",
          "output_type": "stream",
          "text": [
            "\r 23%|██▎       | 92/400 [1:02:20<3:28:22, 40.59s/it]"
          ]
        },
        {
          "name": "stdout",
          "output_type": "stream",
          "text": [
            "Loss: 0.012076028622686863\n"
          ]
        },
        {
          "name": "stderr",
          "output_type": "stream",
          "text": [
            "\r 23%|██▎       | 93/400 [1:03:00<3:27:38, 40.58s/it]"
          ]
        },
        {
          "name": "stdout",
          "output_type": "stream",
          "text": [
            "Loss: 0.009630230255424976\n"
          ]
        },
        {
          "name": "stderr",
          "output_type": "stream",
          "text": [
            "\r 24%|██▎       | 94/400 [1:03:41<3:26:57, 40.58s/it]"
          ]
        },
        {
          "name": "stdout",
          "output_type": "stream",
          "text": [
            "Loss: 0.013711822219192982\n"
          ]
        },
        {
          "name": "stderr",
          "output_type": "stream",
          "text": [
            "\r 24%|██▍       | 95/400 [1:04:21<3:26:16, 40.58s/it]"
          ]
        },
        {
          "name": "stdout",
          "output_type": "stream",
          "text": [
            "Loss: 0.010038127191364765\n"
          ]
        },
        {
          "name": "stderr",
          "output_type": "stream",
          "text": [
            "\r 24%|██▍       | 96/400 [1:05:02<3:25:45, 40.61s/it]"
          ]
        },
        {
          "name": "stdout",
          "output_type": "stream",
          "text": [
            "Loss: 0.011046811006963253\n"
          ]
        },
        {
          "name": "stderr",
          "output_type": "stream",
          "text": [
            "\r 24%|██▍       | 97/400 [1:05:43<3:25:11, 40.63s/it]"
          ]
        },
        {
          "name": "stdout",
          "output_type": "stream",
          "text": [
            "Loss: 0.012448156252503395\n"
          ]
        },
        {
          "name": "stderr",
          "output_type": "stream",
          "text": [
            "\r 24%|██▍       | 98/400 [1:06:24<3:24:34, 40.64s/it]"
          ]
        },
        {
          "name": "stdout",
          "output_type": "stream",
          "text": [
            "Loss: 0.010478390380740166\n"
          ]
        },
        {
          "name": "stderr",
          "output_type": "stream",
          "text": [
            "\r 25%|██▍       | 99/400 [1:07:04<3:23:47, 40.62s/it]"
          ]
        },
        {
          "name": "stdout",
          "output_type": "stream",
          "text": [
            "Loss: 0.008878719992935658\n"
          ]
        },
        {
          "name": "stderr",
          "output_type": "stream",
          "text": [
            "\r 25%|██▌       | 100/400 [1:07:45<3:22:54, 40.58s/it]"
          ]
        },
        {
          "name": "stdout",
          "output_type": "stream",
          "text": [
            "Loss: 0.010014276951551437\n"
          ]
        },
        {
          "name": "stderr",
          "output_type": "stream",
          "text": [
            "\r 25%|██▌       | 101/400 [1:08:25<3:22:19, 40.60s/it]"
          ]
        },
        {
          "name": "stdout",
          "output_type": "stream",
          "text": [
            "Loss: 0.011567903682589531\n"
          ]
        },
        {
          "name": "stderr",
          "output_type": "stream",
          "text": [
            "\r 26%|██▌       | 102/400 [1:09:06<3:21:36, 40.59s/it]"
          ]
        },
        {
          "name": "stdout",
          "output_type": "stream",
          "text": [
            "Loss: 0.007289803121238947\n"
          ]
        },
        {
          "name": "stderr",
          "output_type": "stream",
          "text": [
            "\r 26%|██▌       | 103/400 [1:09:46<3:20:53, 40.58s/it]"
          ]
        },
        {
          "name": "stdout",
          "output_type": "stream",
          "text": [
            "Loss: 0.011497515253722668\n"
          ]
        },
        {
          "name": "stderr",
          "output_type": "stream",
          "text": [
            "\r 26%|██▌       | 104/400 [1:10:27<3:20:13, 40.59s/it]"
          ]
        },
        {
          "name": "stdout",
          "output_type": "stream",
          "text": [
            "Loss: 0.005314181558787823\n"
          ]
        },
        {
          "name": "stderr",
          "output_type": "stream",
          "text": [
            "\r 26%|██▋       | 105/400 [1:11:08<3:19:40, 40.61s/it]"
          ]
        },
        {
          "name": "stdout",
          "output_type": "stream",
          "text": [
            "Loss: 0.008151782676577568\n"
          ]
        },
        {
          "name": "stderr",
          "output_type": "stream",
          "text": [
            "\r 26%|██▋       | 106/400 [1:11:48<3:18:55, 40.60s/it]"
          ]
        },
        {
          "name": "stdout",
          "output_type": "stream",
          "text": [
            "Loss: 0.011796095408499241\n"
          ]
        },
        {
          "name": "stderr",
          "output_type": "stream",
          "text": [
            "\r 27%|██▋       | 107/400 [1:12:29<3:18:13, 40.59s/it]"
          ]
        },
        {
          "name": "stdout",
          "output_type": "stream",
          "text": [
            "Loss: 0.004514253698289394\n"
          ]
        },
        {
          "name": "stderr",
          "output_type": "stream",
          "text": [
            "\r 27%|██▋       | 108/400 [1:13:09<3:17:31, 40.59s/it]"
          ]
        },
        {
          "name": "stdout",
          "output_type": "stream",
          "text": [
            "Loss: 0.007096786983311176\n"
          ]
        },
        {
          "name": "stderr",
          "output_type": "stream",
          "text": [
            "\r 27%|██▋       | 109/400 [1:13:50<3:16:51, 40.59s/it]"
          ]
        },
        {
          "name": "stdout",
          "output_type": "stream",
          "text": [
            "Loss: 0.015727844089269638\n"
          ]
        },
        {
          "name": "stderr",
          "output_type": "stream",
          "text": [
            "\r 28%|██▊       | 110/400 [1:14:31<3:16:08, 40.58s/it]"
          ]
        },
        {
          "name": "stdout",
          "output_type": "stream",
          "text": [
            "Loss: 0.009652333334088326\n"
          ]
        },
        {
          "name": "stderr",
          "output_type": "stream",
          "text": [
            "\r 28%|██▊       | 111/400 [1:15:11<3:15:27, 40.58s/it]"
          ]
        },
        {
          "name": "stdout",
          "output_type": "stream",
          "text": [
            "Loss: 0.010025720112025738\n"
          ]
        },
        {
          "name": "stderr",
          "output_type": "stream",
          "text": [
            "\r 28%|██▊       | 112/400 [1:15:52<3:14:45, 40.58s/it]"
          ]
        },
        {
          "name": "stdout",
          "output_type": "stream",
          "text": [
            "Loss: 0.0046538799069821835\n"
          ]
        },
        {
          "name": "stderr",
          "output_type": "stream",
          "text": [
            "\r 28%|██▊       | 113/400 [1:16:32<3:13:59, 40.56s/it]"
          ]
        },
        {
          "name": "stdout",
          "output_type": "stream",
          "text": [
            "Loss: 0.006715604104101658\n"
          ]
        },
        {
          "name": "stderr",
          "output_type": "stream",
          "text": [
            "\r 28%|██▊       | 114/400 [1:17:13<3:13:23, 40.57s/it]"
          ]
        },
        {
          "name": "stdout",
          "output_type": "stream",
          "text": [
            "Loss: 0.010719990357756615\n"
          ]
        },
        {
          "name": "stderr",
          "output_type": "stream",
          "text": [
            "\r 29%|██▉       | 115/400 [1:17:53<3:12:46, 40.58s/it]"
          ]
        },
        {
          "name": "stdout",
          "output_type": "stream",
          "text": [
            "Loss: 0.010098982602357864\n"
          ]
        },
        {
          "name": "stderr",
          "output_type": "stream",
          "text": [
            "\r 29%|██▉       | 116/400 [1:18:34<3:12:12, 40.61s/it]"
          ]
        },
        {
          "name": "stdout",
          "output_type": "stream",
          "text": [
            "Loss: 0.009161785244941711\n"
          ]
        },
        {
          "name": "stderr",
          "output_type": "stream",
          "text": [
            "\r 29%|██▉       | 117/400 [1:19:15<3:11:32, 40.61s/it]"
          ]
        },
        {
          "name": "stdout",
          "output_type": "stream",
          "text": [
            "Loss: 0.011944562196731567\n"
          ]
        },
        {
          "name": "stderr",
          "output_type": "stream",
          "text": [
            "\r 30%|██▉       | 118/400 [1:19:55<3:10:51, 40.61s/it]"
          ]
        },
        {
          "name": "stdout",
          "output_type": "stream",
          "text": [
            "Loss: 0.009842578321695328\n"
          ]
        },
        {
          "name": "stderr",
          "output_type": "stream",
          "text": [
            "\r 30%|██▉       | 119/400 [1:20:36<3:10:11, 40.61s/it]"
          ]
        },
        {
          "name": "stdout",
          "output_type": "stream",
          "text": [
            "Loss: 0.014972354285418987\n"
          ]
        },
        {
          "name": "stderr",
          "output_type": "stream",
          "text": [
            "\r 30%|███       | 120/400 [1:21:17<3:09:33, 40.62s/it]"
          ]
        },
        {
          "name": "stdout",
          "output_type": "stream",
          "text": [
            "Loss: 0.006319625768810511\n"
          ]
        },
        {
          "name": "stderr",
          "output_type": "stream",
          "text": [
            "\r 30%|███       | 121/400 [1:21:57<3:08:53, 40.62s/it]"
          ]
        },
        {
          "name": "stdout",
          "output_type": "stream",
          "text": [
            "Loss: 0.0059985690750181675\n"
          ]
        },
        {
          "name": "stderr",
          "output_type": "stream",
          "text": [
            "\r 30%|███       | 122/400 [1:22:38<3:08:08, 40.61s/it]"
          ]
        },
        {
          "name": "stdout",
          "output_type": "stream",
          "text": [
            "Loss: 0.0069239167496562\n"
          ]
        },
        {
          "name": "stderr",
          "output_type": "stream",
          "text": [
            "\r 31%|███       | 123/400 [1:23:18<3:07:33, 40.63s/it]"
          ]
        },
        {
          "name": "stdout",
          "output_type": "stream",
          "text": [
            "Loss: 0.00669086491689086\n"
          ]
        },
        {
          "name": "stderr",
          "output_type": "stream",
          "text": [
            "\r 31%|███       | 124/400 [1:23:59<3:06:59, 40.65s/it]"
          ]
        },
        {
          "name": "stdout",
          "output_type": "stream",
          "text": [
            "Loss: 0.014060023240745068\n"
          ]
        },
        {
          "name": "stderr",
          "output_type": "stream",
          "text": [
            "\r 31%|███▏      | 125/400 [1:24:40<3:06:23, 40.67s/it]"
          ]
        },
        {
          "name": "stdout",
          "output_type": "stream",
          "text": [
            "Loss: 0.009783964604139328\n"
          ]
        },
        {
          "name": "stderr",
          "output_type": "stream",
          "text": [
            "\r 32%|███▏      | 126/400 [1:25:20<3:05:41, 40.66s/it]"
          ]
        },
        {
          "name": "stdout",
          "output_type": "stream",
          "text": [
            "Loss: 0.007742638234049082\n"
          ]
        },
        {
          "name": "stderr",
          "output_type": "stream",
          "text": [
            "\r 32%|███▏      | 127/400 [1:26:01<3:05:06, 40.68s/it]"
          ]
        },
        {
          "name": "stdout",
          "output_type": "stream",
          "text": [
            "Loss: 0.007827767170965672\n"
          ]
        },
        {
          "name": "stderr",
          "output_type": "stream",
          "text": [
            "\r 32%|███▏      | 128/400 [1:26:42<3:04:18, 40.66s/it]"
          ]
        },
        {
          "name": "stdout",
          "output_type": "stream",
          "text": [
            "Loss: 0.01065593771636486\n"
          ]
        },
        {
          "name": "stderr",
          "output_type": "stream",
          "text": [
            "\r 32%|███▏      | 129/400 [1:27:22<3:03:38, 40.66s/it]"
          ]
        },
        {
          "name": "stdout",
          "output_type": "stream",
          "text": [
            "Loss: 0.008099155500531197\n"
          ]
        },
        {
          "name": "stderr",
          "output_type": "stream",
          "text": [
            "\r 32%|███▎      | 130/400 [1:28:03<3:03:00, 40.67s/it]"
          ]
        },
        {
          "name": "stdout",
          "output_type": "stream",
          "text": [
            "Loss: 0.005227007903158665\n"
          ]
        },
        {
          "name": "stderr",
          "output_type": "stream",
          "text": [
            "\r 33%|███▎      | 131/400 [1:28:44<3:02:13, 40.64s/it]"
          ]
        },
        {
          "name": "stdout",
          "output_type": "stream",
          "text": [
            "Loss: 0.008820578455924988\n"
          ]
        },
        {
          "name": "stderr",
          "output_type": "stream",
          "text": [
            "\r 33%|███▎      | 132/400 [1:29:24<3:01:39, 40.67s/it]"
          ]
        },
        {
          "name": "stdout",
          "output_type": "stream",
          "text": [
            "Loss: 0.008448483422398567\n"
          ]
        },
        {
          "name": "stderr",
          "output_type": "stream",
          "text": [
            "\r 33%|███▎      | 133/400 [1:30:05<3:00:59, 40.67s/it]"
          ]
        },
        {
          "name": "stdout",
          "output_type": "stream",
          "text": [
            "Loss: 0.007056897971779108\n"
          ]
        },
        {
          "name": "stderr",
          "output_type": "stream",
          "text": [
            "\r 34%|███▎      | 134/400 [1:30:46<3:00:22, 40.69s/it]"
          ]
        },
        {
          "name": "stdout",
          "output_type": "stream",
          "text": [
            "Loss: 0.006566161755472422\n"
          ]
        },
        {
          "name": "stderr",
          "output_type": "stream",
          "text": [
            "\r 34%|███▍      | 135/400 [1:31:27<2:59:40, 40.68s/it]"
          ]
        },
        {
          "name": "stdout",
          "output_type": "stream",
          "text": [
            "Loss: 0.01058348547667265\n"
          ]
        },
        {
          "name": "stderr",
          "output_type": "stream",
          "text": [
            "\r 34%|███▍      | 136/400 [1:32:07<2:58:56, 40.67s/it]"
          ]
        },
        {
          "name": "stdout",
          "output_type": "stream",
          "text": [
            "Loss: 0.012140486389398575\n"
          ]
        },
        {
          "name": "stderr",
          "output_type": "stream",
          "text": [
            "\r 34%|███▍      | 137/400 [1:32:48<2:58:11, 40.65s/it]"
          ]
        },
        {
          "name": "stdout",
          "output_type": "stream",
          "text": [
            "Loss: 0.009145536459982395\n"
          ]
        },
        {
          "name": "stderr",
          "output_type": "stream",
          "text": [
            "\r 34%|███▍      | 138/400 [1:33:28<2:57:26, 40.63s/it]"
          ]
        },
        {
          "name": "stdout",
          "output_type": "stream",
          "text": [
            "Loss: 0.008390567265450954\n"
          ]
        },
        {
          "name": "stderr",
          "output_type": "stream",
          "text": [
            "\r 35%|███▍      | 139/400 [1:34:09<2:56:43, 40.63s/it]"
          ]
        },
        {
          "name": "stdout",
          "output_type": "stream",
          "text": [
            "Loss: 0.010951187461614609\n"
          ]
        },
        {
          "name": "stderr",
          "output_type": "stream",
          "text": [
            "\r 35%|███▌      | 140/400 [1:34:50<2:56:10, 40.66s/it]"
          ]
        },
        {
          "name": "stdout",
          "output_type": "stream",
          "text": [
            "Loss: 0.010182465426623821\n"
          ]
        },
        {
          "name": "stderr",
          "output_type": "stream",
          "text": [
            "\r 35%|███▌      | 141/400 [1:35:30<2:55:30, 40.66s/it]"
          ]
        },
        {
          "name": "stdout",
          "output_type": "stream",
          "text": [
            "Loss: 0.01017712987959385\n"
          ]
        },
        {
          "name": "stderr",
          "output_type": "stream",
          "text": [
            "\r 36%|███▌      | 142/400 [1:36:11<2:54:47, 40.65s/it]"
          ]
        },
        {
          "name": "stdout",
          "output_type": "stream",
          "text": [
            "Loss: 0.006791622843593359\n"
          ]
        },
        {
          "name": "stderr",
          "output_type": "stream",
          "text": [
            "\r 36%|███▌      | 143/400 [1:36:52<2:54:09, 40.66s/it]"
          ]
        },
        {
          "name": "stdout",
          "output_type": "stream",
          "text": [
            "Loss: 0.011660363525152206\n"
          ]
        },
        {
          "name": "stderr",
          "output_type": "stream",
          "text": [
            "\r 36%|███▌      | 144/400 [1:37:32<2:53:25, 40.65s/it]"
          ]
        },
        {
          "name": "stdout",
          "output_type": "stream",
          "text": [
            "Loss: 0.00990300439298153\n"
          ]
        },
        {
          "name": "stderr",
          "output_type": "stream",
          "text": [
            "\r 36%|███▋      | 145/400 [1:38:13<2:52:39, 40.62s/it]"
          ]
        },
        {
          "name": "stdout",
          "output_type": "stream",
          "text": [
            "Loss: 0.010104598477482796\n"
          ]
        },
        {
          "name": "stderr",
          "output_type": "stream",
          "text": [
            "\r 36%|███▋      | 146/400 [1:38:53<2:51:54, 40.61s/it]"
          ]
        },
        {
          "name": "stdout",
          "output_type": "stream",
          "text": [
            "Loss: 0.012111634947359562\n"
          ]
        },
        {
          "name": "stderr",
          "output_type": "stream",
          "text": [
            "\r 37%|███▋      | 147/400 [1:39:34<2:51:13, 40.61s/it]"
          ]
        },
        {
          "name": "stdout",
          "output_type": "stream",
          "text": [
            "Loss: 0.01177026703953743\n"
          ]
        },
        {
          "name": "stderr",
          "output_type": "stream",
          "text": [
            "\r 37%|███▋      | 148/400 [1:40:15<2:50:30, 40.60s/it]"
          ]
        },
        {
          "name": "stdout",
          "output_type": "stream",
          "text": [
            "Loss: 0.008717721328139305\n"
          ]
        },
        {
          "name": "stderr",
          "output_type": "stream",
          "text": [
            "\r 37%|███▋      | 149/400 [1:40:55<2:49:52, 40.61s/it]"
          ]
        },
        {
          "name": "stdout",
          "output_type": "stream",
          "text": [
            "Loss: 0.008937062695622444\n"
          ]
        },
        {
          "name": "stderr",
          "output_type": "stream",
          "text": [
            "\r 38%|███▊      | 150/400 [1:41:36<2:49:10, 40.60s/it]"
          ]
        },
        {
          "name": "stdout",
          "output_type": "stream",
          "text": [
            "Loss: 0.0068132467567920685\n"
          ]
        },
        {
          "name": "stderr",
          "output_type": "stream",
          "text": [
            "\r 38%|███▊      | 151/400 [1:42:16<2:48:30, 40.60s/it]"
          ]
        },
        {
          "name": "stdout",
          "output_type": "stream",
          "text": [
            "Loss: 0.016626063734292984\n"
          ]
        },
        {
          "name": "stderr",
          "output_type": "stream",
          "text": [
            "\r 38%|███▊      | 152/400 [1:42:57<2:47:55, 40.63s/it]"
          ]
        },
        {
          "name": "stdout",
          "output_type": "stream",
          "text": [
            "Loss: 0.011710630729794502\n"
          ]
        },
        {
          "name": "stderr",
          "output_type": "stream",
          "text": [
            "\r 38%|███▊      | 153/400 [1:43:38<2:47:13, 40.62s/it]"
          ]
        },
        {
          "name": "stdout",
          "output_type": "stream",
          "text": [
            "Loss: 0.009754601866006851\n"
          ]
        },
        {
          "name": "stderr",
          "output_type": "stream",
          "text": [
            "\r 38%|███▊      | 154/400 [1:44:18<2:46:35, 40.63s/it]"
          ]
        },
        {
          "name": "stdout",
          "output_type": "stream",
          "text": [
            "Loss: 0.013723787851631641\n"
          ]
        },
        {
          "name": "stderr",
          "output_type": "stream",
          "text": [
            "\r 39%|███▉      | 155/400 [1:44:59<2:45:56, 40.64s/it]"
          ]
        },
        {
          "name": "stdout",
          "output_type": "stream",
          "text": [
            "Loss: 0.007419227622449398\n"
          ]
        },
        {
          "name": "stderr",
          "output_type": "stream",
          "text": [
            "\r 39%|███▉      | 156/400 [1:45:40<2:45:12, 40.62s/it]"
          ]
        },
        {
          "name": "stdout",
          "output_type": "stream",
          "text": [
            "Loss: 0.007785547524690628\n"
          ]
        },
        {
          "name": "stderr",
          "output_type": "stream",
          "text": [
            "\r 39%|███▉      | 157/400 [1:46:20<2:44:40, 40.66s/it]"
          ]
        },
        {
          "name": "stdout",
          "output_type": "stream",
          "text": [
            "Loss: 0.004982644692063332\n"
          ]
        },
        {
          "name": "stderr",
          "output_type": "stream",
          "text": [
            "\r 40%|███▉      | 158/400 [1:47:01<2:43:56, 40.65s/it]"
          ]
        },
        {
          "name": "stdout",
          "output_type": "stream",
          "text": [
            "Loss: 0.006252451334148645\n"
          ]
        },
        {
          "name": "stderr",
          "output_type": "stream",
          "text": [
            "\r 40%|███▉      | 159/400 [1:47:42<2:43:09, 40.62s/it]"
          ]
        },
        {
          "name": "stdout",
          "output_type": "stream",
          "text": [
            "Loss: 0.009998935274779797\n"
          ]
        },
        {
          "name": "stderr",
          "output_type": "stream",
          "text": [
            "\r 40%|████      | 160/400 [1:48:22<2:42:33, 40.64s/it]"
          ]
        },
        {
          "name": "stdout",
          "output_type": "stream",
          "text": [
            "Loss: 0.006451976485550404\n"
          ]
        },
        {
          "name": "stderr",
          "output_type": "stream",
          "text": [
            "\r 40%|████      | 161/400 [1:49:03<2:41:56, 40.65s/it]"
          ]
        },
        {
          "name": "stdout",
          "output_type": "stream",
          "text": [
            "Loss: 0.011673511005938053\n"
          ]
        },
        {
          "name": "stderr",
          "output_type": "stream",
          "text": [
            "\r 40%|████      | 162/400 [1:49:44<2:41:16, 40.66s/it]"
          ]
        },
        {
          "name": "stdout",
          "output_type": "stream",
          "text": [
            "Loss: 0.015394863672554493\n"
          ]
        },
        {
          "name": "stderr",
          "output_type": "stream",
          "text": [
            "\r 41%|████      | 163/400 [1:50:24<2:40:46, 40.70s/it]"
          ]
        },
        {
          "name": "stdout",
          "output_type": "stream",
          "text": [
            "Loss: 0.008903278037905693\n"
          ]
        },
        {
          "name": "stderr",
          "output_type": "stream",
          "text": [
            "\r 41%|████      | 164/400 [1:51:05<2:40:04, 40.70s/it]"
          ]
        },
        {
          "name": "stdout",
          "output_type": "stream",
          "text": [
            "Loss: 0.012246595695614815\n"
          ]
        },
        {
          "name": "stderr",
          "output_type": "stream",
          "text": [
            "\r 41%|████▏     | 165/400 [1:51:46<2:39:20, 40.68s/it]"
          ]
        },
        {
          "name": "stdout",
          "output_type": "stream",
          "text": [
            "Loss: 0.010221675969660282\n"
          ]
        },
        {
          "name": "stderr",
          "output_type": "stream",
          "text": [
            "\r 42%|████▏     | 166/400 [1:52:26<2:38:36, 40.67s/it]"
          ]
        },
        {
          "name": "stdout",
          "output_type": "stream",
          "text": [
            "Loss: 0.01485371869057417\n"
          ]
        },
        {
          "name": "stderr",
          "output_type": "stream",
          "text": [
            "\r 42%|████▏     | 167/400 [1:53:07<2:37:57, 40.67s/it]"
          ]
        },
        {
          "name": "stdout",
          "output_type": "stream",
          "text": [
            "Loss: 0.012924799695611\n"
          ]
        },
        {
          "name": "stderr",
          "output_type": "stream",
          "text": [
            "\r 42%|████▏     | 168/400 [1:53:48<2:37:14, 40.67s/it]"
          ]
        },
        {
          "name": "stdout",
          "output_type": "stream",
          "text": [
            "Loss: 0.013300523161888123\n"
          ]
        },
        {
          "name": "stderr",
          "output_type": "stream",
          "text": [
            "\r 42%|████▏     | 169/400 [1:54:28<2:36:35, 40.67s/it]"
          ]
        },
        {
          "name": "stdout",
          "output_type": "stream",
          "text": [
            "Loss: 0.009017490781843662\n"
          ]
        },
        {
          "name": "stderr",
          "output_type": "stream",
          "text": [
            "\r 42%|████▎     | 170/400 [1:55:09<2:35:54, 40.67s/it]"
          ]
        },
        {
          "name": "stdout",
          "output_type": "stream",
          "text": [
            "Loss: 0.009125578217208385\n"
          ]
        },
        {
          "name": "stderr",
          "output_type": "stream",
          "text": [
            "\r 43%|████▎     | 171/400 [1:55:50<2:35:11, 40.66s/it]"
          ]
        },
        {
          "name": "stdout",
          "output_type": "stream",
          "text": [
            "Loss: 0.008891399949789047\n"
          ]
        },
        {
          "name": "stderr",
          "output_type": "stream",
          "text": [
            "\r 43%|████▎     | 172/400 [1:56:30<2:34:31, 40.66s/it]"
          ]
        },
        {
          "name": "stdout",
          "output_type": "stream",
          "text": [
            "Loss: 0.008603720925748348\n"
          ]
        },
        {
          "name": "stderr",
          "output_type": "stream",
          "text": [
            "\r 43%|████▎     | 173/400 [1:57:11<2:33:46, 40.64s/it]"
          ]
        },
        {
          "name": "stdout",
          "output_type": "stream",
          "text": [
            "Loss: 0.010189198888838291\n"
          ]
        },
        {
          "name": "stderr",
          "output_type": "stream",
          "text": [
            "\r 44%|████▎     | 174/400 [1:57:52<2:33:04, 40.64s/it]"
          ]
        },
        {
          "name": "stdout",
          "output_type": "stream",
          "text": [
            "Loss: 0.007250581867992878\n"
          ]
        },
        {
          "name": "stderr",
          "output_type": "stream",
          "text": [
            "\r 44%|████▍     | 175/400 [1:58:32<2:32:31, 40.67s/it]"
          ]
        },
        {
          "name": "stdout",
          "output_type": "stream",
          "text": [
            "Loss: 0.01382109709084034\n"
          ]
        },
        {
          "name": "stderr",
          "output_type": "stream",
          "text": [
            "\r 44%|████▍     | 176/400 [1:59:13<2:31:53, 40.68s/it]"
          ]
        },
        {
          "name": "stdout",
          "output_type": "stream",
          "text": [
            "Loss: 0.0127645805478096\n"
          ]
        },
        {
          "name": "stderr",
          "output_type": "stream",
          "text": [
            "\r 44%|████▍     | 177/400 [1:59:54<2:31:09, 40.67s/it]"
          ]
        },
        {
          "name": "stdout",
          "output_type": "stream",
          "text": [
            "Loss: 0.008258510380983353\n"
          ]
        },
        {
          "name": "stderr",
          "output_type": "stream",
          "text": [
            "\r 44%|████▍     | 178/400 [2:00:34<2:30:24, 40.65s/it]"
          ]
        },
        {
          "name": "stdout",
          "output_type": "stream",
          "text": [
            "Loss: 0.014983361586928368\n"
          ]
        },
        {
          "name": "stderr",
          "output_type": "stream",
          "text": [
            "\r 45%|████▍     | 179/400 [2:01:15<2:29:45, 40.66s/it]"
          ]
        },
        {
          "name": "stdout",
          "output_type": "stream",
          "text": [
            "Loss: 0.007797245867550373\n"
          ]
        },
        {
          "name": "stderr",
          "output_type": "stream",
          "text": [
            "\r 45%|████▌     | 180/400 [2:01:56<2:29:04, 40.66s/it]"
          ]
        },
        {
          "name": "stdout",
          "output_type": "stream",
          "text": [
            "Loss: 0.00853373110294342\n"
          ]
        },
        {
          "name": "stderr",
          "output_type": "stream",
          "text": [
            "\r 45%|████▌     | 181/400 [2:02:36<2:28:13, 40.61s/it]"
          ]
        },
        {
          "name": "stdout",
          "output_type": "stream",
          "text": [
            "Loss: 0.009884076192975044\n"
          ]
        },
        {
          "name": "stderr",
          "output_type": "stream",
          "text": [
            "\r 46%|████▌     | 182/400 [2:03:17<2:27:30, 40.60s/it]"
          ]
        },
        {
          "name": "stdout",
          "output_type": "stream",
          "text": [
            "Loss: 0.009729210287332535\n"
          ]
        },
        {
          "name": "stderr",
          "output_type": "stream",
          "text": [
            "\r 46%|████▌     | 183/400 [2:03:57<2:26:44, 40.58s/it]"
          ]
        },
        {
          "name": "stdout",
          "output_type": "stream",
          "text": [
            "Loss: 0.009594382718205452\n"
          ]
        },
        {
          "name": "stderr",
          "output_type": "stream",
          "text": [
            "\r 46%|████▌     | 184/400 [2:04:38<2:26:04, 40.57s/it]"
          ]
        },
        {
          "name": "stdout",
          "output_type": "stream",
          "text": [
            "Loss: 0.005967228673398495\n"
          ]
        },
        {
          "name": "stderr",
          "output_type": "stream",
          "text": [
            "\r 46%|████▋     | 185/400 [2:05:18<2:25:18, 40.55s/it]"
          ]
        },
        {
          "name": "stdout",
          "output_type": "stream",
          "text": [
            "Loss: 0.01180886197835207\n"
          ]
        },
        {
          "name": "stderr",
          "output_type": "stream",
          "text": [
            "\r 46%|████▋     | 186/400 [2:05:59<2:24:40, 40.56s/it]"
          ]
        },
        {
          "name": "stdout",
          "output_type": "stream",
          "text": [
            "Loss: 0.008195852860808372\n"
          ]
        },
        {
          "name": "stderr",
          "output_type": "stream",
          "text": [
            "\r 47%|████▋     | 187/400 [2:06:39<2:23:58, 40.56s/it]"
          ]
        },
        {
          "name": "stdout",
          "output_type": "stream",
          "text": [
            "Loss: 0.004457267466932535\n"
          ]
        },
        {
          "name": "stderr",
          "output_type": "stream",
          "text": [
            "\r 47%|████▋     | 188/400 [2:07:20<2:23:11, 40.53s/it]"
          ]
        },
        {
          "name": "stdout",
          "output_type": "stream",
          "text": [
            "Loss: 0.00817195139825344\n"
          ]
        },
        {
          "name": "stderr",
          "output_type": "stream",
          "text": [
            "\r 47%|████▋     | 189/400 [2:08:00<2:22:28, 40.51s/it]"
          ]
        },
        {
          "name": "stdout",
          "output_type": "stream",
          "text": [
            "Loss: 0.009995721280574799\n"
          ]
        },
        {
          "name": "stderr",
          "output_type": "stream",
          "text": [
            "\r 48%|████▊     | 190/400 [2:08:41<2:21:44, 40.50s/it]"
          ]
        },
        {
          "name": "stdout",
          "output_type": "stream",
          "text": [
            "Loss: 0.006969146430492401\n"
          ]
        },
        {
          "name": "stderr",
          "output_type": "stream",
          "text": [
            "\r 48%|████▊     | 191/400 [2:09:21<2:21:01, 40.48s/it]"
          ]
        },
        {
          "name": "stdout",
          "output_type": "stream",
          "text": [
            "Loss: 0.008870385587215424\n"
          ]
        },
        {
          "name": "stderr",
          "output_type": "stream",
          "text": [
            "\r 48%|████▊     | 192/400 [2:10:02<2:20:18, 40.48s/it]"
          ]
        },
        {
          "name": "stdout",
          "output_type": "stream",
          "text": [
            "Loss: 0.006454809568822384\n"
          ]
        },
        {
          "name": "stderr",
          "output_type": "stream",
          "text": [
            "\r 48%|████▊     | 193/400 [2:10:42<2:19:38, 40.48s/it]"
          ]
        },
        {
          "name": "stdout",
          "output_type": "stream",
          "text": [
            "Loss: 0.012403450906276703\n"
          ]
        },
        {
          "name": "stderr",
          "output_type": "stream",
          "text": [
            "\r 48%|████▊     | 194/400 [2:11:23<2:19:00, 40.49s/it]"
          ]
        },
        {
          "name": "stdout",
          "output_type": "stream",
          "text": [
            "Loss: 0.009306607767939568\n"
          ]
        },
        {
          "name": "stderr",
          "output_type": "stream",
          "text": [
            "\r 49%|████▉     | 195/400 [2:12:03<2:18:19, 40.48s/it]"
          ]
        },
        {
          "name": "stdout",
          "output_type": "stream",
          "text": [
            "Loss: 0.00929451733827591\n"
          ]
        },
        {
          "name": "stderr",
          "output_type": "stream",
          "text": [
            "\r 49%|████▉     | 196/400 [2:12:44<2:17:39, 40.49s/it]"
          ]
        },
        {
          "name": "stdout",
          "output_type": "stream",
          "text": [
            "Loss: 0.006788303144276142\n"
          ]
        },
        {
          "name": "stderr",
          "output_type": "stream",
          "text": [
            "\r 49%|████▉     | 197/400 [2:13:24<2:16:56, 40.48s/it]"
          ]
        },
        {
          "name": "stdout",
          "output_type": "stream",
          "text": [
            "Loss: 0.00915766041725874\n"
          ]
        },
        {
          "name": "stderr",
          "output_type": "stream",
          "text": [
            "\r 50%|████▉     | 198/400 [2:14:05<2:16:17, 40.48s/it]"
          ]
        },
        {
          "name": "stdout",
          "output_type": "stream",
          "text": [
            "Loss: 0.009583363309502602\n"
          ]
        },
        {
          "name": "stderr",
          "output_type": "stream",
          "text": [
            "\r 50%|████▉     | 199/400 [2:14:45<2:15:34, 40.47s/it]"
          ]
        },
        {
          "name": "stdout",
          "output_type": "stream",
          "text": [
            "Loss: 0.0068400269374251366\n"
          ]
        },
        {
          "name": "stderr",
          "output_type": "stream",
          "text": [
            "\r 50%|█████     | 200/400 [2:15:25<2:14:50, 40.45s/it]"
          ]
        },
        {
          "name": "stdout",
          "output_type": "stream",
          "text": [
            "Loss: 0.00749211385846138\n"
          ]
        },
        {
          "name": "stderr",
          "output_type": "stream",
          "text": [
            "\r 50%|█████     | 201/400 [2:16:06<2:14:10, 40.46s/it]"
          ]
        },
        {
          "name": "stdout",
          "output_type": "stream",
          "text": [
            "Loss: 0.01088656485080719\n"
          ]
        },
        {
          "name": "stderr",
          "output_type": "stream",
          "text": [
            "\r 50%|█████     | 202/400 [2:16:46<2:13:35, 40.48s/it]"
          ]
        },
        {
          "name": "stdout",
          "output_type": "stream",
          "text": [
            "Loss: 0.012986552901566029\n"
          ]
        },
        {
          "name": "stderr",
          "output_type": "stream",
          "text": [
            "\r 51%|█████     | 203/400 [2:17:27<2:13:00, 40.51s/it]"
          ]
        },
        {
          "name": "stdout",
          "output_type": "stream",
          "text": [
            "Loss: 0.00782262347638607\n"
          ]
        },
        {
          "name": "stderr",
          "output_type": "stream",
          "text": [
            "\r 51%|█████     | 204/400 [2:18:08<2:12:21, 40.52s/it]"
          ]
        },
        {
          "name": "stdout",
          "output_type": "stream",
          "text": [
            "Loss: 0.012571854516863823\n"
          ]
        },
        {
          "name": "stderr",
          "output_type": "stream",
          "text": [
            "\r 51%|█████▏    | 205/400 [2:18:48<2:11:37, 40.50s/it]"
          ]
        },
        {
          "name": "stdout",
          "output_type": "stream",
          "text": [
            "Loss: 0.006848554126918316\n"
          ]
        },
        {
          "name": "stderr",
          "output_type": "stream",
          "text": [
            "\r 52%|█████▏    | 206/400 [2:19:29<2:10:58, 40.51s/it]"
          ]
        },
        {
          "name": "stdout",
          "output_type": "stream",
          "text": [
            "Loss: 0.005186943802982569\n"
          ]
        },
        {
          "name": "stderr",
          "output_type": "stream",
          "text": [
            "\r 52%|█████▏    | 207/400 [2:20:09<2:10:20, 40.52s/it]"
          ]
        },
        {
          "name": "stdout",
          "output_type": "stream",
          "text": [
            "Loss: 0.005297325551509857\n"
          ]
        },
        {
          "name": "stderr",
          "output_type": "stream",
          "text": [
            "\r 52%|█████▏    | 208/400 [2:20:50<2:09:38, 40.51s/it]"
          ]
        },
        {
          "name": "stdout",
          "output_type": "stream",
          "text": [
            "Loss: 0.011371692642569542\n"
          ]
        },
        {
          "name": "stderr",
          "output_type": "stream",
          "text": [
            "\r 52%|█████▏    | 209/400 [2:21:30<2:08:57, 40.51s/it]"
          ]
        },
        {
          "name": "stdout",
          "output_type": "stream",
          "text": [
            "Loss: 0.007811614312231541\n"
          ]
        },
        {
          "name": "stderr",
          "output_type": "stream",
          "text": [
            "\r 52%|█████▎    | 210/400 [2:22:11<2:08:20, 40.53s/it]"
          ]
        },
        {
          "name": "stdout",
          "output_type": "stream",
          "text": [
            "Loss: 0.010081222280859947\n"
          ]
        },
        {
          "name": "stderr",
          "output_type": "stream",
          "text": [
            "\r 53%|█████▎    | 211/400 [2:22:51<2:07:41, 40.54s/it]"
          ]
        },
        {
          "name": "stdout",
          "output_type": "stream",
          "text": [
            "Loss: 0.0103558748960495\n"
          ]
        },
        {
          "name": "stderr",
          "output_type": "stream",
          "text": [
            "\r 53%|█████▎    | 212/400 [2:23:32<2:06:59, 40.53s/it]"
          ]
        },
        {
          "name": "stdout",
          "output_type": "stream",
          "text": [
            "Loss: 0.013363642618060112\n"
          ]
        },
        {
          "name": "stderr",
          "output_type": "stream",
          "text": [
            "\r 53%|█████▎    | 213/400 [2:24:12<2:06:18, 40.53s/it]"
          ]
        },
        {
          "name": "stdout",
          "output_type": "stream",
          "text": [
            "Loss: 0.003932291176170111\n"
          ]
        },
        {
          "name": "stderr",
          "output_type": "stream",
          "text": [
            "\r 54%|█████▎    | 214/400 [2:24:53<2:05:38, 40.53s/it]"
          ]
        },
        {
          "name": "stdout",
          "output_type": "stream",
          "text": [
            "Loss: 0.007000324781984091\n"
          ]
        },
        {
          "name": "stderr",
          "output_type": "stream",
          "text": [
            "\r 54%|█████▍    | 215/400 [2:25:33<2:04:56, 40.52s/it]"
          ]
        },
        {
          "name": "stdout",
          "output_type": "stream",
          "text": [
            "Loss: 0.00685535091906786\n"
          ]
        },
        {
          "name": "stderr",
          "output_type": "stream",
          "text": [
            "\r 54%|█████▍    | 216/400 [2:26:14<2:04:19, 40.54s/it]"
          ]
        },
        {
          "name": "stdout",
          "output_type": "stream",
          "text": [
            "Loss: 0.006664535962045193\n"
          ]
        },
        {
          "name": "stderr",
          "output_type": "stream",
          "text": [
            "\r 54%|█████▍    | 217/400 [2:26:54<2:03:38, 40.54s/it]"
          ]
        },
        {
          "name": "stdout",
          "output_type": "stream",
          "text": [
            "Loss: 0.00571923702955246\n"
          ]
        },
        {
          "name": "stderr",
          "output_type": "stream",
          "text": [
            "\r 55%|█████▍    | 218/400 [2:27:35<2:02:52, 40.51s/it]"
          ]
        },
        {
          "name": "stdout",
          "output_type": "stream",
          "text": [
            "Loss: 0.00776528287678957\n"
          ]
        },
        {
          "name": "stderr",
          "output_type": "stream",
          "text": [
            "\r 55%|█████▍    | 219/400 [2:28:15<2:02:08, 40.49s/it]"
          ]
        },
        {
          "name": "stdout",
          "output_type": "stream",
          "text": [
            "Loss: 0.008572000078856945\n"
          ]
        },
        {
          "name": "stderr",
          "output_type": "stream",
          "text": [
            "\r 55%|█████▌    | 220/400 [2:28:56<2:01:31, 40.51s/it]"
          ]
        },
        {
          "name": "stdout",
          "output_type": "stream",
          "text": [
            "Loss: 0.00794124323874712\n"
          ]
        },
        {
          "name": "stderr",
          "output_type": "stream",
          "text": [
            "\r 55%|█████▌    | 221/400 [2:29:36<2:00:51, 40.51s/it]"
          ]
        },
        {
          "name": "stdout",
          "output_type": "stream",
          "text": [
            "Loss: 0.007421889342367649\n"
          ]
        },
        {
          "name": "stderr",
          "output_type": "stream",
          "text": [
            "\r 56%|█████▌    | 222/400 [2:30:17<2:00:11, 40.51s/it]"
          ]
        },
        {
          "name": "stdout",
          "output_type": "stream",
          "text": [
            "Loss: 0.009076868183910847\n"
          ]
        },
        {
          "name": "stderr",
          "output_type": "stream",
          "text": [
            "\r 56%|█████▌    | 223/400 [2:30:57<1:59:27, 40.49s/it]"
          ]
        },
        {
          "name": "stdout",
          "output_type": "stream",
          "text": [
            "Loss: 0.006846764590591192\n"
          ]
        },
        {
          "name": "stderr",
          "output_type": "stream",
          "text": [
            "\r 56%|█████▌    | 224/400 [2:31:38<1:58:46, 40.49s/it]"
          ]
        },
        {
          "name": "stdout",
          "output_type": "stream",
          "text": [
            "Loss: 0.015185574069619179\n"
          ]
        },
        {
          "name": "stderr",
          "output_type": "stream",
          "text": [
            "\r 56%|█████▋    | 225/400 [2:32:18<1:58:11, 40.52s/it]"
          ]
        },
        {
          "name": "stdout",
          "output_type": "stream",
          "text": [
            "Loss: 0.012596210464835167\n"
          ]
        },
        {
          "name": "stderr",
          "output_type": "stream",
          "text": [
            "\r 56%|█████▋    | 226/400 [2:32:59<1:57:28, 40.51s/it]"
          ]
        },
        {
          "name": "stdout",
          "output_type": "stream",
          "text": [
            "Loss: 0.008420665748417377\n"
          ]
        },
        {
          "name": "stderr",
          "output_type": "stream",
          "text": [
            "\r 57%|█████▋    | 227/400 [2:33:39<1:56:44, 40.49s/it]"
          ]
        },
        {
          "name": "stdout",
          "output_type": "stream",
          "text": [
            "Loss: 0.00624068221077323\n"
          ]
        },
        {
          "name": "stderr",
          "output_type": "stream",
          "text": [
            "\r 57%|█████▋    | 228/400 [2:34:20<1:56:03, 40.48s/it]"
          ]
        },
        {
          "name": "stdout",
          "output_type": "stream",
          "text": [
            "Loss: 0.01212256122380495\n"
          ]
        },
        {
          "name": "stderr",
          "output_type": "stream",
          "text": [
            "\r 57%|█████▋    | 229/400 [2:35:00<1:55:26, 40.51s/it]"
          ]
        },
        {
          "name": "stdout",
          "output_type": "stream",
          "text": [
            "Loss: 0.012547435238957405\n"
          ]
        },
        {
          "name": "stderr",
          "output_type": "stream",
          "text": [
            "\r 57%|█████▊    | 230/400 [2:35:41<1:54:46, 40.51s/it]"
          ]
        },
        {
          "name": "stdout",
          "output_type": "stream",
          "text": [
            "Loss: 0.008557931520044804\n"
          ]
        },
        {
          "name": "stderr",
          "output_type": "stream",
          "text": [
            "\r 58%|█████▊    | 231/400 [2:36:21<1:54:07, 40.52s/it]"
          ]
        },
        {
          "name": "stdout",
          "output_type": "stream",
          "text": [
            "Loss: 0.014160031452775002\n"
          ]
        },
        {
          "name": "stderr",
          "output_type": "stream",
          "text": [
            "\r 58%|█████▊    | 232/400 [2:37:02<1:53:28, 40.53s/it]"
          ]
        },
        {
          "name": "stdout",
          "output_type": "stream",
          "text": [
            "Loss: 0.011147449724376202\n"
          ]
        },
        {
          "name": "stderr",
          "output_type": "stream",
          "text": [
            "\r 58%|█████▊    | 233/400 [2:37:43<1:52:47, 40.53s/it]"
          ]
        },
        {
          "name": "stdout",
          "output_type": "stream",
          "text": [
            "Loss: 0.006956485565751791\n"
          ]
        },
        {
          "name": "stderr",
          "output_type": "stream",
          "text": [
            "\r 58%|█████▊    | 234/400 [2:38:23<1:52:06, 40.52s/it]"
          ]
        },
        {
          "name": "stdout",
          "output_type": "stream",
          "text": [
            "Loss: 0.01087378989905119\n"
          ]
        },
        {
          "name": "stderr",
          "output_type": "stream",
          "text": [
            "\r 59%|█████▉    | 235/400 [2:39:03<1:51:20, 40.49s/it]"
          ]
        },
        {
          "name": "stdout",
          "output_type": "stream",
          "text": [
            "Loss: 0.009461794048547745\n"
          ]
        },
        {
          "name": "stderr",
          "output_type": "stream",
          "text": [
            "\r 59%|█████▉    | 236/400 [2:39:44<1:50:41, 40.49s/it]"
          ]
        },
        {
          "name": "stdout",
          "output_type": "stream",
          "text": [
            "Loss: 0.008289498277008533\n"
          ]
        },
        {
          "name": "stderr",
          "output_type": "stream",
          "text": [
            "\r 59%|█████▉    | 237/400 [2:40:24<1:50:01, 40.50s/it]"
          ]
        },
        {
          "name": "stdout",
          "output_type": "stream",
          "text": [
            "Loss: 0.0034950419794768095\n"
          ]
        },
        {
          "name": "stderr",
          "output_type": "stream",
          "text": [
            "\r 60%|█████▉    | 238/400 [2:41:05<1:49:24, 40.52s/it]"
          ]
        },
        {
          "name": "stdout",
          "output_type": "stream",
          "text": [
            "Loss: 0.009996071457862854\n"
          ]
        },
        {
          "name": "stderr",
          "output_type": "stream",
          "text": [
            "\r 60%|█████▉    | 239/400 [2:41:46<1:48:43, 40.52s/it]"
          ]
        },
        {
          "name": "stdout",
          "output_type": "stream",
          "text": [
            "Loss: 0.00999416783452034\n"
          ]
        },
        {
          "name": "stderr",
          "output_type": "stream",
          "text": [
            "\r 60%|██████    | 240/400 [2:42:26<1:48:01, 40.51s/it]"
          ]
        },
        {
          "name": "stdout",
          "output_type": "stream",
          "text": [
            "Loss: 0.012287009507417679\n"
          ]
        },
        {
          "name": "stderr",
          "output_type": "stream",
          "text": [
            "\r 60%|██████    | 241/400 [2:43:07<1:47:22, 40.52s/it]"
          ]
        },
        {
          "name": "stdout",
          "output_type": "stream",
          "text": [
            "Loss: 0.008555230684578419\n"
          ]
        },
        {
          "name": "stderr",
          "output_type": "stream",
          "text": [
            "\r 60%|██████    | 242/400 [2:43:47<1:46:41, 40.52s/it]"
          ]
        },
        {
          "name": "stdout",
          "output_type": "stream",
          "text": [
            "Loss: 0.00952923484146595\n"
          ]
        },
        {
          "name": "stderr",
          "output_type": "stream",
          "text": [
            "\r 61%|██████    | 243/400 [2:44:28<1:46:05, 40.55s/it]"
          ]
        },
        {
          "name": "stdout",
          "output_type": "stream",
          "text": [
            "Loss: 0.010255619883537292\n"
          ]
        },
        {
          "name": "stderr",
          "output_type": "stream",
          "text": [
            "\r 61%|██████    | 244/400 [2:45:08<1:45:23, 40.54s/it]"
          ]
        },
        {
          "name": "stdout",
          "output_type": "stream",
          "text": [
            "Loss: 0.007187221199274063\n"
          ]
        },
        {
          "name": "stderr",
          "output_type": "stream",
          "text": [
            "\r 61%|██████▏   | 245/400 [2:45:49<1:44:44, 40.54s/it]"
          ]
        },
        {
          "name": "stdout",
          "output_type": "stream",
          "text": [
            "Loss: 0.010447106324136257\n"
          ]
        },
        {
          "name": "stderr",
          "output_type": "stream",
          "text": [
            "\r 62%|██████▏   | 246/400 [2:46:29<1:44:05, 40.56s/it]"
          ]
        },
        {
          "name": "stdout",
          "output_type": "stream",
          "text": [
            "Loss: 0.008098708465695381\n"
          ]
        },
        {
          "name": "stderr",
          "output_type": "stream",
          "text": [
            "\r 62%|██████▏   | 247/400 [2:47:10<1:43:24, 40.55s/it]"
          ]
        },
        {
          "name": "stdout",
          "output_type": "stream",
          "text": [
            "Loss: 0.007380827330052853\n"
          ]
        },
        {
          "name": "stderr",
          "output_type": "stream",
          "text": [
            "\r 62%|██████▏   | 248/400 [2:47:51<1:42:52, 40.61s/it]"
          ]
        },
        {
          "name": "stdout",
          "output_type": "stream",
          "text": [
            "Loss: 0.010588607750833035\n"
          ]
        },
        {
          "name": "stderr",
          "output_type": "stream",
          "text": [
            "\r 62%|██████▏   | 249/400 [2:48:31<1:42:12, 40.61s/it]"
          ]
        },
        {
          "name": "stdout",
          "output_type": "stream",
          "text": [
            "Loss: 0.011976740323007107\n"
          ]
        },
        {
          "name": "stderr",
          "output_type": "stream",
          "text": [
            "\r 62%|██████▎   | 250/400 [2:49:12<1:41:35, 40.64s/it]"
          ]
        },
        {
          "name": "stdout",
          "output_type": "stream",
          "text": [
            "Loss: 0.011477861553430557\n"
          ]
        },
        {
          "name": "stderr",
          "output_type": "stream",
          "text": [
            "\r 63%|██████▎   | 251/400 [2:49:53<1:40:55, 40.64s/it]"
          ]
        },
        {
          "name": "stdout",
          "output_type": "stream",
          "text": [
            "Loss: 0.0119340093806386\n"
          ]
        },
        {
          "name": "stderr",
          "output_type": "stream",
          "text": [
            "\r 63%|██████▎   | 252/400 [2:50:33<1:40:12, 40.62s/it]"
          ]
        },
        {
          "name": "stdout",
          "output_type": "stream",
          "text": [
            "Loss: 0.011699041351675987\n"
          ]
        },
        {
          "name": "stderr",
          "output_type": "stream",
          "text": [
            "\r 63%|██████▎   | 253/400 [2:51:14<1:39:30, 40.61s/it]"
          ]
        },
        {
          "name": "stdout",
          "output_type": "stream",
          "text": [
            "Loss: 0.009465191513299942\n"
          ]
        },
        {
          "name": "stderr",
          "output_type": "stream",
          "text": [
            "\r 64%|██████▎   | 254/400 [2:51:54<1:38:47, 40.60s/it]"
          ]
        },
        {
          "name": "stdout",
          "output_type": "stream",
          "text": [
            "Loss: 0.0037650931626558304\n"
          ]
        },
        {
          "name": "stderr",
          "output_type": "stream",
          "text": [
            "\r 64%|██████▍   | 255/400 [2:52:35<1:38:03, 40.58s/it]"
          ]
        },
        {
          "name": "stdout",
          "output_type": "stream",
          "text": [
            "Loss: 0.011726846918463707\n"
          ]
        },
        {
          "name": "stderr",
          "output_type": "stream",
          "text": [
            "\r 64%|██████▍   | 256/400 [2:53:15<1:37:21, 40.57s/it]"
          ]
        },
        {
          "name": "stdout",
          "output_type": "stream",
          "text": [
            "Loss: 0.011958813294768333\n"
          ]
        },
        {
          "name": "stderr",
          "output_type": "stream",
          "text": [
            "\r 64%|██████▍   | 257/400 [2:53:56<1:36:40, 40.56s/it]"
          ]
        },
        {
          "name": "stdout",
          "output_type": "stream",
          "text": [
            "Loss: 0.008812783285975456\n"
          ]
        },
        {
          "name": "stderr",
          "output_type": "stream",
          "text": [
            "\r 64%|██████▍   | 258/400 [2:54:37<1:35:59, 40.56s/it]"
          ]
        },
        {
          "name": "stdout",
          "output_type": "stream",
          "text": [
            "Loss: 0.005770397372543812\n"
          ]
        },
        {
          "name": "stderr",
          "output_type": "stream",
          "text": [
            "\r 65%|██████▍   | 259/400 [2:55:17<1:35:16, 40.54s/it]"
          ]
        },
        {
          "name": "stdout",
          "output_type": "stream",
          "text": [
            "Loss: 0.007419192232191563\n"
          ]
        },
        {
          "name": "stderr",
          "output_type": "stream",
          "text": [
            "\r 65%|██████▌   | 260/400 [2:55:58<1:34:33, 40.53s/it]"
          ]
        },
        {
          "name": "stdout",
          "output_type": "stream",
          "text": [
            "Loss: 0.011186236515641212\n"
          ]
        },
        {
          "name": "stderr",
          "output_type": "stream",
          "text": [
            "\r 65%|██████▌   | 261/400 [2:56:38<1:33:53, 40.53s/it]"
          ]
        },
        {
          "name": "stdout",
          "output_type": "stream",
          "text": [
            "Loss: 0.010774771682918072\n"
          ]
        },
        {
          "name": "stderr",
          "output_type": "stream",
          "text": [
            "\r 66%|██████▌   | 262/400 [2:57:19<1:33:14, 40.54s/it]"
          ]
        },
        {
          "name": "stdout",
          "output_type": "stream",
          "text": [
            "Loss: 0.00838331039994955\n"
          ]
        },
        {
          "name": "stderr",
          "output_type": "stream",
          "text": [
            "\r 66%|██████▌   | 263/400 [2:57:59<1:32:36, 40.56s/it]"
          ]
        },
        {
          "name": "stdout",
          "output_type": "stream",
          "text": [
            "Loss: 0.008798525668680668\n"
          ]
        },
        {
          "name": "stderr",
          "output_type": "stream",
          "text": [
            "\r 66%|██████▌   | 264/400 [2:58:40<1:31:57, 40.57s/it]"
          ]
        },
        {
          "name": "stdout",
          "output_type": "stream",
          "text": [
            "Loss: 0.007969710044562817\n"
          ]
        },
        {
          "name": "stderr",
          "output_type": "stream",
          "text": [
            "\r 66%|██████▋   | 265/400 [2:59:20<1:31:17, 40.58s/it]"
          ]
        },
        {
          "name": "stdout",
          "output_type": "stream",
          "text": [
            "Loss: 0.011596747674047947\n"
          ]
        },
        {
          "name": "stderr",
          "output_type": "stream",
          "text": [
            "\r 66%|██████▋   | 266/400 [3:00:01<1:30:37, 40.58s/it]"
          ]
        },
        {
          "name": "stdout",
          "output_type": "stream",
          "text": [
            "Loss: 0.011670885607600212\n"
          ]
        },
        {
          "name": "stderr",
          "output_type": "stream",
          "text": [
            "\r 67%|██████▋   | 267/400 [3:00:42<1:29:54, 40.56s/it]"
          ]
        },
        {
          "name": "stdout",
          "output_type": "stream",
          "text": [
            "Loss: 0.011685261502861977\n"
          ]
        },
        {
          "name": "stderr",
          "output_type": "stream",
          "text": [
            "\r 67%|██████▋   | 268/400 [3:01:22<1:29:13, 40.56s/it]"
          ]
        },
        {
          "name": "stdout",
          "output_type": "stream",
          "text": [
            "Loss: 0.011321675963699818\n"
          ]
        },
        {
          "name": "stderr",
          "output_type": "stream",
          "text": [
            "\r 67%|██████▋   | 269/400 [3:02:03<1:28:33, 40.56s/it]"
          ]
        },
        {
          "name": "stdout",
          "output_type": "stream",
          "text": [
            "Loss: 0.011293953284621239\n"
          ]
        },
        {
          "name": "stderr",
          "output_type": "stream",
          "text": [
            "\r 68%|██████▊   | 270/400 [3:02:43<1:27:51, 40.55s/it]"
          ]
        },
        {
          "name": "stdout",
          "output_type": "stream",
          "text": [
            "Loss: 0.01041384506970644\n"
          ]
        },
        {
          "name": "stderr",
          "output_type": "stream",
          "text": [
            "\r 68%|██████▊   | 271/400 [3:03:24<1:27:12, 40.56s/it]"
          ]
        },
        {
          "name": "stdout",
          "output_type": "stream",
          "text": [
            "Loss: 0.007123202085494995\n"
          ]
        },
        {
          "name": "stderr",
          "output_type": "stream",
          "text": [
            "\r 68%|██████▊   | 272/400 [3:04:04<1:26:34, 40.58s/it]"
          ]
        },
        {
          "name": "stdout",
          "output_type": "stream",
          "text": [
            "Loss: 0.008776597678661346\n"
          ]
        },
        {
          "name": "stderr",
          "output_type": "stream",
          "text": [
            "\r 68%|██████▊   | 273/400 [3:04:45<1:25:56, 40.60s/it]"
          ]
        },
        {
          "name": "stdout",
          "output_type": "stream",
          "text": [
            "Loss: 0.012853341177105904\n"
          ]
        },
        {
          "name": "stderr",
          "output_type": "stream",
          "text": [
            "\r 68%|██████▊   | 274/400 [3:05:26<1:25:19, 40.63s/it]"
          ]
        },
        {
          "name": "stdout",
          "output_type": "stream",
          "text": [
            "Loss: 0.008940616622567177\n"
          ]
        },
        {
          "name": "stderr",
          "output_type": "stream",
          "text": [
            "\r 69%|██████▉   | 275/400 [3:06:06<1:24:36, 40.61s/it]"
          ]
        },
        {
          "name": "stdout",
          "output_type": "stream",
          "text": [
            "Loss: 0.008289908990263939\n"
          ]
        },
        {
          "name": "stderr",
          "output_type": "stream",
          "text": [
            "\r 69%|██████▉   | 276/400 [3:06:47<1:23:55, 40.61s/it]"
          ]
        },
        {
          "name": "stdout",
          "output_type": "stream",
          "text": [
            "Loss: 0.012385854497551918\n"
          ]
        },
        {
          "name": "stderr",
          "output_type": "stream",
          "text": [
            "\r 69%|██████▉   | 277/400 [3:07:27<1:23:11, 40.58s/it]"
          ]
        },
        {
          "name": "stdout",
          "output_type": "stream",
          "text": [
            "Loss: 0.007258751895278692\n"
          ]
        },
        {
          "name": "stderr",
          "output_type": "stream",
          "text": [
            "\r 70%|██████▉   | 278/400 [3:08:08<1:22:30, 40.58s/it]"
          ]
        },
        {
          "name": "stdout",
          "output_type": "stream",
          "text": [
            "Loss: 0.006970304064452648\n"
          ]
        },
        {
          "name": "stderr",
          "output_type": "stream",
          "text": [
            "\r 70%|██████▉   | 279/400 [3:08:49<1:21:51, 40.59s/it]"
          ]
        },
        {
          "name": "stdout",
          "output_type": "stream",
          "text": [
            "Loss: 0.005970681551843882\n"
          ]
        },
        {
          "name": "stderr",
          "output_type": "stream",
          "text": [
            "\r 70%|███████   | 280/400 [3:09:29<1:21:10, 40.59s/it]"
          ]
        },
        {
          "name": "stdout",
          "output_type": "stream",
          "text": [
            "Loss: 0.013326480984687805\n"
          ]
        },
        {
          "name": "stderr",
          "output_type": "stream",
          "text": [
            "\r 70%|███████   | 281/400 [3:10:10<1:20:30, 40.59s/it]"
          ]
        },
        {
          "name": "stdout",
          "output_type": "stream",
          "text": [
            "Loss: 0.005862348712980747\n"
          ]
        },
        {
          "name": "stderr",
          "output_type": "stream",
          "text": [
            "\r 70%|███████   | 282/400 [3:10:50<1:19:47, 40.57s/it]"
          ]
        },
        {
          "name": "stdout",
          "output_type": "stream",
          "text": [
            "Loss: 0.008285591378808022\n"
          ]
        },
        {
          "name": "stderr",
          "output_type": "stream",
          "text": [
            "\r 71%|███████   | 283/400 [3:11:31<1:19:07, 40.58s/it]"
          ]
        },
        {
          "name": "stdout",
          "output_type": "stream",
          "text": [
            "Loss: 0.008983101695775986\n"
          ]
        },
        {
          "name": "stderr",
          "output_type": "stream",
          "text": [
            "\r 71%|███████   | 284/400 [3:12:11<1:18:25, 40.57s/it]"
          ]
        },
        {
          "name": "stdout",
          "output_type": "stream",
          "text": [
            "Loss: 0.010129738599061966\n"
          ]
        },
        {
          "name": "stderr",
          "output_type": "stream",
          "text": [
            "\r 71%|███████▏  | 285/400 [3:12:52<1:17:49, 40.60s/it]"
          ]
        },
        {
          "name": "stdout",
          "output_type": "stream",
          "text": [
            "Loss: 0.009594470262527466\n"
          ]
        },
        {
          "name": "stderr",
          "output_type": "stream",
          "text": [
            "\r 72%|███████▏  | 286/400 [3:13:33<1:17:12, 40.63s/it]"
          ]
        },
        {
          "name": "stdout",
          "output_type": "stream",
          "text": [
            "Loss: 0.012085518799722195\n"
          ]
        },
        {
          "name": "stderr",
          "output_type": "stream",
          "text": [
            "\r 72%|███████▏  | 287/400 [3:14:14<1:16:35, 40.67s/it]"
          ]
        },
        {
          "name": "stdout",
          "output_type": "stream",
          "text": [
            "Loss: 0.012334304861724377\n"
          ]
        },
        {
          "name": "stderr",
          "output_type": "stream",
          "text": [
            "\r 72%|███████▏  | 288/400 [3:14:54<1:15:55, 40.67s/it]"
          ]
        },
        {
          "name": "stdout",
          "output_type": "stream",
          "text": [
            "Loss: 0.013999739661812782\n"
          ]
        },
        {
          "name": "stderr",
          "output_type": "stream",
          "text": [
            "\r 72%|███████▏  | 289/400 [3:15:35<1:15:11, 40.65s/it]"
          ]
        },
        {
          "name": "stdout",
          "output_type": "stream",
          "text": [
            "Loss: 0.007925881072878838\n"
          ]
        },
        {
          "name": "stderr",
          "output_type": "stream",
          "text": [
            "\r 72%|███████▎  | 290/400 [3:16:16<1:14:33, 40.66s/it]"
          ]
        },
        {
          "name": "stdout",
          "output_type": "stream",
          "text": [
            "Loss: 0.0070795416831970215\n"
          ]
        },
        {
          "name": "stderr",
          "output_type": "stream",
          "text": [
            "\r 73%|███████▎  | 291/400 [3:16:56<1:13:52, 40.66s/it]"
          ]
        },
        {
          "name": "stdout",
          "output_type": "stream",
          "text": [
            "Loss: 0.004979071207344532\n"
          ]
        },
        {
          "name": "stderr",
          "output_type": "stream",
          "text": [
            "\r 73%|███████▎  | 292/400 [3:17:37<1:13:08, 40.63s/it]"
          ]
        },
        {
          "name": "stdout",
          "output_type": "stream",
          "text": [
            "Loss: 0.008927072398364544\n"
          ]
        },
        {
          "name": "stderr",
          "output_type": "stream",
          "text": [
            "\r 73%|███████▎  | 293/400 [3:18:17<1:12:28, 40.64s/it]"
          ]
        },
        {
          "name": "stdout",
          "output_type": "stream",
          "text": [
            "Loss: 0.00581170292571187\n"
          ]
        },
        {
          "name": "stderr",
          "output_type": "stream",
          "text": [
            "\r 74%|███████▎  | 294/400 [3:18:58<1:11:46, 40.63s/it]"
          ]
        },
        {
          "name": "stdout",
          "output_type": "stream",
          "text": [
            "Loss: 0.0053993696346879005\n"
          ]
        },
        {
          "name": "stderr",
          "output_type": "stream",
          "text": [
            "\r 74%|███████▍  | 295/400 [3:19:39<1:11:05, 40.63s/it]"
          ]
        },
        {
          "name": "stdout",
          "output_type": "stream",
          "text": [
            "Loss: 0.005727160256356001\n"
          ]
        },
        {
          "name": "stderr",
          "output_type": "stream",
          "text": [
            "\r 74%|███████▍  | 296/400 [3:20:19<1:10:20, 40.59s/it]"
          ]
        },
        {
          "name": "stdout",
          "output_type": "stream",
          "text": [
            "Loss: 0.008363192901015282\n"
          ]
        },
        {
          "name": "stderr",
          "output_type": "stream",
          "text": [
            "\r 74%|███████▍  | 297/400 [3:21:00<1:09:36, 40.55s/it]"
          ]
        },
        {
          "name": "stdout",
          "output_type": "stream",
          "text": [
            "Loss: 0.012915422208607197\n"
          ]
        },
        {
          "name": "stderr",
          "output_type": "stream",
          "text": [
            "\r 74%|███████▍  | 298/400 [3:21:40<1:08:54, 40.53s/it]"
          ]
        },
        {
          "name": "stdout",
          "output_type": "stream",
          "text": [
            "Loss: 0.0055959876626729965\n"
          ]
        },
        {
          "name": "stderr",
          "output_type": "stream",
          "text": [
            "\r 75%|███████▍  | 299/400 [3:22:21<1:08:14, 40.54s/it]"
          ]
        },
        {
          "name": "stdout",
          "output_type": "stream",
          "text": [
            "Loss: 0.008824972435832024\n"
          ]
        },
        {
          "name": "stderr",
          "output_type": "stream",
          "text": [
            "\r 75%|███████▌  | 300/400 [3:23:01<1:07:38, 40.58s/it]"
          ]
        },
        {
          "name": "stdout",
          "output_type": "stream",
          "text": [
            "Loss: 0.004852167796343565\n"
          ]
        },
        {
          "name": "stderr",
          "output_type": "stream",
          "text": [
            "\r 75%|███████▌  | 301/400 [3:23:42<1:06:58, 40.59s/it]"
          ]
        },
        {
          "name": "stdout",
          "output_type": "stream",
          "text": [
            "Loss: 0.008577750995755196\n"
          ]
        },
        {
          "name": "stderr",
          "output_type": "stream",
          "text": [
            "\r 76%|███████▌  | 302/400 [3:24:23<1:06:23, 40.65s/it]"
          ]
        },
        {
          "name": "stdout",
          "output_type": "stream",
          "text": [
            "Loss: 0.007913085632026196\n"
          ]
        },
        {
          "name": "stderr",
          "output_type": "stream",
          "text": [
            "\r 76%|███████▌  | 303/400 [3:25:03<1:05:43, 40.66s/it]"
          ]
        },
        {
          "name": "stdout",
          "output_type": "stream",
          "text": [
            "Loss: 0.009359999559819698\n"
          ]
        },
        {
          "name": "stderr",
          "output_type": "stream",
          "text": [
            "\r 76%|███████▌  | 304/400 [3:25:44<1:05:02, 40.66s/it]"
          ]
        },
        {
          "name": "stdout",
          "output_type": "stream",
          "text": [
            "Loss: 0.005551041103899479\n"
          ]
        },
        {
          "name": "stderr",
          "output_type": "stream",
          "text": [
            "\r 76%|███████▋  | 305/400 [3:26:25<1:04:21, 40.65s/it]"
          ]
        },
        {
          "name": "stdout",
          "output_type": "stream",
          "text": [
            "Loss: 0.006575440522283316\n"
          ]
        },
        {
          "name": "stderr",
          "output_type": "stream",
          "text": [
            "\r 76%|███████▋  | 306/400 [3:27:05<1:03:39, 40.63s/it]"
          ]
        },
        {
          "name": "stdout",
          "output_type": "stream",
          "text": [
            "Loss: 0.009065710939466953\n"
          ]
        },
        {
          "name": "stderr",
          "output_type": "stream",
          "text": [
            "\r 77%|███████▋  | 307/400 [3:27:46<1:02:58, 40.62s/it]"
          ]
        },
        {
          "name": "stdout",
          "output_type": "stream",
          "text": [
            "Loss: 0.00884837843477726\n"
          ]
        },
        {
          "name": "stderr",
          "output_type": "stream",
          "text": [
            "\r 77%|███████▋  | 308/400 [3:28:27<1:02:16, 40.61s/it]"
          ]
        },
        {
          "name": "stdout",
          "output_type": "stream",
          "text": [
            "Loss: 0.005586753599345684\n"
          ]
        },
        {
          "name": "stderr",
          "output_type": "stream",
          "text": [
            "\r 77%|███████▋  | 309/400 [3:29:07<1:01:32, 40.58s/it]"
          ]
        },
        {
          "name": "stdout",
          "output_type": "stream",
          "text": [
            "Loss: 0.007503488566726446\n"
          ]
        },
        {
          "name": "stderr",
          "output_type": "stream",
          "text": [
            "\r 78%|███████▊  | 310/400 [3:29:48<1:00:50, 40.56s/it]"
          ]
        },
        {
          "name": "stdout",
          "output_type": "stream",
          "text": [
            "Loss: 0.004705572035163641\n"
          ]
        },
        {
          "name": "stderr",
          "output_type": "stream",
          "text": [
            "\r 78%|███████▊  | 311/400 [3:30:28<1:00:11, 40.58s/it]"
          ]
        },
        {
          "name": "stdout",
          "output_type": "stream",
          "text": [
            "Loss: 0.016557442024350166\n"
          ]
        },
        {
          "name": "stderr",
          "output_type": "stream",
          "text": [
            "\r 78%|███████▊  | 312/400 [3:31:09<59:28, 40.55s/it]  "
          ]
        },
        {
          "name": "stdout",
          "output_type": "stream",
          "text": [
            "Loss: 0.00918978825211525\n"
          ]
        },
        {
          "name": "stderr",
          "output_type": "stream",
          "text": [
            "\r 78%|███████▊  | 313/400 [3:31:49<58:47, 40.54s/it]"
          ]
        },
        {
          "name": "stdout",
          "output_type": "stream",
          "text": [
            "Loss: 0.009703189134597778\n"
          ]
        },
        {
          "name": "stderr",
          "output_type": "stream",
          "text": [
            "\r 78%|███████▊  | 314/400 [3:32:30<58:05, 40.53s/it]"
          ]
        },
        {
          "name": "stdout",
          "output_type": "stream",
          "text": [
            "Loss: 0.011370697058737278\n"
          ]
        },
        {
          "name": "stderr",
          "output_type": "stream",
          "text": [
            "\r 79%|███████▉  | 315/400 [3:33:10<57:23, 40.52s/it]"
          ]
        },
        {
          "name": "stdout",
          "output_type": "stream",
          "text": [
            "Loss: 0.008643433451652527\n"
          ]
        },
        {
          "name": "stderr",
          "output_type": "stream",
          "text": [
            "\r 79%|███████▉  | 316/400 [3:33:51<56:44, 40.53s/it]"
          ]
        },
        {
          "name": "stdout",
          "output_type": "stream",
          "text": [
            "Loss: 0.010785271413624287\n"
          ]
        },
        {
          "name": "stderr",
          "output_type": "stream",
          "text": [
            "\r 79%|███████▉  | 317/400 [3:34:31<56:03, 40.53s/it]"
          ]
        },
        {
          "name": "stdout",
          "output_type": "stream",
          "text": [
            "Loss: 0.009294657036662102\n"
          ]
        },
        {
          "name": "stderr",
          "output_type": "stream",
          "text": [
            "\r 80%|███████▉  | 318/400 [3:35:12<55:21, 40.51s/it]"
          ]
        },
        {
          "name": "stdout",
          "output_type": "stream",
          "text": [
            "Loss: 0.01432791631668806\n"
          ]
        },
        {
          "name": "stderr",
          "output_type": "stream",
          "text": [
            "\r 80%|███████▉  | 319/400 [3:35:52<54:43, 40.53s/it]"
          ]
        },
        {
          "name": "stdout",
          "output_type": "stream",
          "text": [
            "Loss: 0.010377147234976292\n"
          ]
        },
        {
          "name": "stderr",
          "output_type": "stream",
          "text": [
            "\r 80%|████████  | 320/400 [3:36:33<54:03, 40.54s/it]"
          ]
        },
        {
          "name": "stdout",
          "output_type": "stream",
          "text": [
            "Loss: 0.005770337302237749\n"
          ]
        },
        {
          "name": "stderr",
          "output_type": "stream",
          "text": [
            "\r 80%|████████  | 321/400 [3:37:13<53:23, 40.55s/it]"
          ]
        },
        {
          "name": "stdout",
          "output_type": "stream",
          "text": [
            "Loss: 0.006962471641600132\n"
          ]
        },
        {
          "name": "stderr",
          "output_type": "stream",
          "text": [
            "\r 80%|████████  | 322/400 [3:37:54<52:42, 40.55s/it]"
          ]
        },
        {
          "name": "stdout",
          "output_type": "stream",
          "text": [
            "Loss: 0.007647515274584293\n"
          ]
        },
        {
          "name": "stderr",
          "output_type": "stream",
          "text": [
            "\r 81%|████████  | 323/400 [3:38:35<52:02, 40.55s/it]"
          ]
        },
        {
          "name": "stdout",
          "output_type": "stream",
          "text": [
            "Loss: 0.00830322690308094\n"
          ]
        },
        {
          "name": "stderr",
          "output_type": "stream",
          "text": [
            "\r 81%|████████  | 324/400 [3:39:15<51:23, 40.58s/it]"
          ]
        },
        {
          "name": "stdout",
          "output_type": "stream",
          "text": [
            "Loss: 0.007597817573696375\n"
          ]
        },
        {
          "name": "stderr",
          "output_type": "stream",
          "text": [
            "\r 81%|████████▏ | 325/400 [3:39:56<50:42, 40.57s/it]"
          ]
        },
        {
          "name": "stdout",
          "output_type": "stream",
          "text": [
            "Loss: 0.009340675547719002\n"
          ]
        },
        {
          "name": "stderr",
          "output_type": "stream",
          "text": [
            "\r 82%|████████▏ | 326/400 [3:40:36<50:01, 40.56s/it]"
          ]
        },
        {
          "name": "stdout",
          "output_type": "stream",
          "text": [
            "Loss: 0.005864768289029598\n"
          ]
        },
        {
          "name": "stderr",
          "output_type": "stream",
          "text": [
            "\r 82%|████████▏ | 327/400 [3:41:17<49:19, 40.55s/it]"
          ]
        },
        {
          "name": "stdout",
          "output_type": "stream",
          "text": [
            "Loss: 0.0064534530974924564\n"
          ]
        },
        {
          "name": "stderr",
          "output_type": "stream",
          "text": [
            "\r 82%|████████▏ | 328/400 [3:41:57<48:40, 40.56s/it]"
          ]
        },
        {
          "name": "stdout",
          "output_type": "stream",
          "text": [
            "Loss: 0.010746017098426819\n"
          ]
        },
        {
          "name": "stderr",
          "output_type": "stream",
          "text": [
            "\r 82%|████████▏ | 329/400 [3:42:38<48:00, 40.57s/it]"
          ]
        },
        {
          "name": "stdout",
          "output_type": "stream",
          "text": [
            "Loss: 0.014457817189395428\n"
          ]
        },
        {
          "name": "stderr",
          "output_type": "stream",
          "text": [
            "\r 82%|████████▎ | 330/400 [3:43:19<47:21, 40.59s/it]"
          ]
        },
        {
          "name": "stdout",
          "output_type": "stream",
          "text": [
            "Loss: 0.003992644604295492\n"
          ]
        },
        {
          "name": "stderr",
          "output_type": "stream",
          "text": [
            "\r 83%|████████▎ | 331/400 [3:43:59<46:42, 40.61s/it]"
          ]
        },
        {
          "name": "stdout",
          "output_type": "stream",
          "text": [
            "Loss: 0.011766301468014717\n"
          ]
        },
        {
          "name": "stderr",
          "output_type": "stream",
          "text": [
            "\r 83%|████████▎ | 332/400 [3:44:40<46:01, 40.60s/it]"
          ]
        },
        {
          "name": "stdout",
          "output_type": "stream",
          "text": [
            "Loss: 0.006528379861265421\n"
          ]
        },
        {
          "name": "stderr",
          "output_type": "stream",
          "text": [
            "\r 83%|████████▎ | 333/400 [3:45:20<45:20, 40.60s/it]"
          ]
        },
        {
          "name": "stdout",
          "output_type": "stream",
          "text": [
            "Loss: 0.00888065341860056\n"
          ]
        },
        {
          "name": "stderr",
          "output_type": "stream",
          "text": [
            "\r 84%|████████▎ | 334/400 [3:46:01<44:38, 40.58s/it]"
          ]
        },
        {
          "name": "stdout",
          "output_type": "stream",
          "text": [
            "Loss: 0.012329546734690666\n"
          ]
        },
        {
          "name": "stderr",
          "output_type": "stream",
          "text": [
            "\r 84%|████████▍ | 335/400 [3:46:41<43:56, 40.56s/it]"
          ]
        },
        {
          "name": "stdout",
          "output_type": "stream",
          "text": [
            "Loss: 0.009973476640880108\n"
          ]
        },
        {
          "name": "stderr",
          "output_type": "stream",
          "text": [
            "\r 84%|████████▍ | 336/400 [3:47:22<43:15, 40.56s/it]"
          ]
        },
        {
          "name": "stdout",
          "output_type": "stream",
          "text": [
            "Loss: 0.00748878438025713\n"
          ]
        },
        {
          "name": "stderr",
          "output_type": "stream",
          "text": [
            "\r 84%|████████▍ | 337/400 [3:48:03<42:34, 40.55s/it]"
          ]
        },
        {
          "name": "stdout",
          "output_type": "stream",
          "text": [
            "Loss: 0.00901320856064558\n"
          ]
        },
        {
          "name": "stderr",
          "output_type": "stream",
          "text": [
            "\r 84%|████████▍ | 338/400 [3:48:43<41:54, 40.56s/it]"
          ]
        },
        {
          "name": "stdout",
          "output_type": "stream",
          "text": [
            "Loss: 0.015512511134147644\n"
          ]
        },
        {
          "name": "stderr",
          "output_type": "stream",
          "text": [
            "\r 85%|████████▍ | 339/400 [3:49:24<41:14, 40.57s/it]"
          ]
        },
        {
          "name": "stdout",
          "output_type": "stream",
          "text": [
            "Loss: 0.011901146732270718\n"
          ]
        },
        {
          "name": "stderr",
          "output_type": "stream",
          "text": [
            "\r 85%|████████▌ | 340/400 [3:50:04<40:33, 40.55s/it]"
          ]
        },
        {
          "name": "stdout",
          "output_type": "stream",
          "text": [
            "Loss: 0.009548642672598362\n"
          ]
        },
        {
          "name": "stderr",
          "output_type": "stream",
          "text": [
            "\r 85%|████████▌ | 341/400 [3:50:45<39:52, 40.55s/it]"
          ]
        },
        {
          "name": "stdout",
          "output_type": "stream",
          "text": [
            "Loss: 0.014222378842532635\n"
          ]
        },
        {
          "name": "stderr",
          "output_type": "stream",
          "text": [
            "\r 86%|████████▌ | 342/400 [3:51:25<39:12, 40.56s/it]"
          ]
        },
        {
          "name": "stdout",
          "output_type": "stream",
          "text": [
            "Loss: 0.010089287534356117\n"
          ]
        },
        {
          "name": "stderr",
          "output_type": "stream",
          "text": [
            "\r 86%|████████▌ | 343/400 [3:52:06<38:30, 40.54s/it]"
          ]
        },
        {
          "name": "stdout",
          "output_type": "stream",
          "text": [
            "Loss: 0.008819596841931343\n"
          ]
        },
        {
          "name": "stderr",
          "output_type": "stream",
          "text": [
            "\r 86%|████████▌ | 344/400 [3:52:46<37:47, 40.50s/it]"
          ]
        },
        {
          "name": "stdout",
          "output_type": "stream",
          "text": [
            "Loss: 0.009799200110137463\n"
          ]
        },
        {
          "name": "stderr",
          "output_type": "stream",
          "text": [
            "\r 86%|████████▋ | 345/400 [3:53:27<37:06, 40.47s/it]"
          ]
        },
        {
          "name": "stdout",
          "output_type": "stream",
          "text": [
            "Loss: 0.010041060857474804\n"
          ]
        },
        {
          "name": "stderr",
          "output_type": "stream",
          "text": [
            "\r 86%|████████▋ | 346/400 [3:54:07<36:27, 40.52s/it]"
          ]
        },
        {
          "name": "stdout",
          "output_type": "stream",
          "text": [
            "Loss: 0.0053876470774412155\n"
          ]
        },
        {
          "name": "stderr",
          "output_type": "stream",
          "text": [
            "\r 87%|████████▋ | 347/400 [3:54:48<35:46, 40.51s/it]"
          ]
        },
        {
          "name": "stdout",
          "output_type": "stream",
          "text": [
            "Loss: 0.010563332587480545\n"
          ]
        },
        {
          "name": "stderr",
          "output_type": "stream",
          "text": [
            "\r 87%|████████▋ | 348/400 [3:55:28<35:05, 40.49s/it]"
          ]
        },
        {
          "name": "stdout",
          "output_type": "stream",
          "text": [
            "Loss: 0.006902365479618311\n"
          ]
        },
        {
          "name": "stderr",
          "output_type": "stream",
          "text": [
            "\r 87%|████████▋ | 349/400 [3:56:09<34:23, 40.47s/it]"
          ]
        },
        {
          "name": "stdout",
          "output_type": "stream",
          "text": [
            "Loss: 0.01095515675842762\n"
          ]
        },
        {
          "name": "stderr",
          "output_type": "stream",
          "text": [
            "\r 88%|████████▊ | 350/400 [3:56:49<33:42, 40.45s/it]"
          ]
        },
        {
          "name": "stdout",
          "output_type": "stream",
          "text": [
            "Loss: 0.004440846852958202\n"
          ]
        },
        {
          "name": "stderr",
          "output_type": "stream",
          "text": [
            "\r 88%|████████▊ | 351/400 [3:57:30<33:02, 40.45s/it]"
          ]
        },
        {
          "name": "stdout",
          "output_type": "stream",
          "text": [
            "Loss: 0.010744293220341206\n"
          ]
        },
        {
          "name": "stderr",
          "output_type": "stream",
          "text": [
            "\r 88%|████████▊ | 352/400 [3:58:10<32:21, 40.45s/it]"
          ]
        },
        {
          "name": "stdout",
          "output_type": "stream",
          "text": [
            "Loss: 0.014436380937695503\n"
          ]
        },
        {
          "name": "stderr",
          "output_type": "stream",
          "text": [
            "\r 88%|████████▊ | 353/400 [3:58:50<31:41, 40.46s/it]"
          ]
        },
        {
          "name": "stdout",
          "output_type": "stream",
          "text": [
            "Loss: 0.007735739462077618\n"
          ]
        },
        {
          "name": "stderr",
          "output_type": "stream",
          "text": [
            "\r 88%|████████▊ | 354/400 [3:59:31<31:02, 40.50s/it]"
          ]
        },
        {
          "name": "stdout",
          "output_type": "stream",
          "text": [
            "Loss: 0.014673417434096336\n"
          ]
        },
        {
          "name": "stderr",
          "output_type": "stream",
          "text": [
            "\r 89%|████████▉ | 355/400 [4:00:12<30:23, 40.53s/it]"
          ]
        },
        {
          "name": "stdout",
          "output_type": "stream",
          "text": [
            "Loss: 0.009445304982364178\n"
          ]
        },
        {
          "name": "stderr",
          "output_type": "stream",
          "text": [
            "\r 89%|████████▉ | 356/400 [4:00:52<29:43, 40.54s/it]"
          ]
        },
        {
          "name": "stdout",
          "output_type": "stream",
          "text": [
            "Loss: 0.008740616030991077\n"
          ]
        },
        {
          "name": "stderr",
          "output_type": "stream",
          "text": [
            "\r 89%|████████▉ | 357/400 [4:01:33<29:03, 40.54s/it]"
          ]
        },
        {
          "name": "stdout",
          "output_type": "stream",
          "text": [
            "Loss: 0.012602150440216064\n"
          ]
        },
        {
          "name": "stderr",
          "output_type": "stream",
          "text": [
            "\r 90%|████████▉ | 358/400 [4:02:13<28:22, 40.53s/it]"
          ]
        },
        {
          "name": "stdout",
          "output_type": "stream",
          "text": [
            "Loss: 0.013900424353778362\n"
          ]
        },
        {
          "name": "stderr",
          "output_type": "stream",
          "text": [
            "\r 90%|████████▉ | 359/400 [4:02:54<27:41, 40.52s/it]"
          ]
        },
        {
          "name": "stdout",
          "output_type": "stream",
          "text": [
            "Loss: 0.009923579171299934\n"
          ]
        },
        {
          "name": "stderr",
          "output_type": "stream",
          "text": [
            "\r 90%|█████████ | 360/400 [4:03:34<26:59, 40.49s/it]"
          ]
        },
        {
          "name": "stdout",
          "output_type": "stream",
          "text": [
            "Loss: 0.007847346365451813\n"
          ]
        },
        {
          "name": "stderr",
          "output_type": "stream",
          "text": [
            "\r 90%|█████████ | 361/400 [4:04:15<26:20, 40.52s/it]"
          ]
        },
        {
          "name": "stdout",
          "output_type": "stream",
          "text": [
            "Loss: 0.0046357824467122555\n"
          ]
        },
        {
          "name": "stderr",
          "output_type": "stream",
          "text": [
            "\r 90%|█████████ | 362/400 [4:04:55<25:40, 40.54s/it]"
          ]
        },
        {
          "name": "stdout",
          "output_type": "stream",
          "text": [
            "Loss: 0.008882363326847553\n"
          ]
        },
        {
          "name": "stderr",
          "output_type": "stream",
          "text": [
            "\r 91%|█████████ | 363/400 [4:05:36<24:59, 40.53s/it]"
          ]
        },
        {
          "name": "stdout",
          "output_type": "stream",
          "text": [
            "Loss: 0.00894898921251297\n"
          ]
        },
        {
          "name": "stderr",
          "output_type": "stream",
          "text": [
            "\r 91%|█████████ | 364/400 [4:06:16<24:19, 40.53s/it]"
          ]
        },
        {
          "name": "stdout",
          "output_type": "stream",
          "text": [
            "Loss: 0.004987469408661127\n"
          ]
        },
        {
          "name": "stderr",
          "output_type": "stream",
          "text": [
            "\r 91%|█████████▏| 365/400 [4:06:57<23:39, 40.56s/it]"
          ]
        },
        {
          "name": "stdout",
          "output_type": "stream",
          "text": [
            "Loss: 0.007526840083301067\n"
          ]
        },
        {
          "name": "stderr",
          "output_type": "stream",
          "text": [
            "\r 92%|█████████▏| 366/400 [4:07:37<22:58, 40.54s/it]"
          ]
        },
        {
          "name": "stdout",
          "output_type": "stream",
          "text": [
            "Loss: 0.005326699465513229\n"
          ]
        },
        {
          "name": "stderr",
          "output_type": "stream",
          "text": [
            "\r 92%|█████████▏| 367/400 [4:08:18<22:17, 40.54s/it]"
          ]
        },
        {
          "name": "stdout",
          "output_type": "stream",
          "text": [
            "Loss: 0.011023136787116528\n"
          ]
        },
        {
          "name": "stderr",
          "output_type": "stream",
          "text": [
            "\r 92%|█████████▏| 368/400 [4:08:59<21:37, 40.54s/it]"
          ]
        },
        {
          "name": "stdout",
          "output_type": "stream",
          "text": [
            "Loss: 0.008423836901783943\n"
          ]
        },
        {
          "name": "stderr",
          "output_type": "stream",
          "text": [
            "\r 92%|█████████▏| 369/400 [4:09:39<20:57, 40.56s/it]"
          ]
        },
        {
          "name": "stdout",
          "output_type": "stream",
          "text": [
            "Loss: 0.0101486686617136\n"
          ]
        },
        {
          "name": "stderr",
          "output_type": "stream",
          "text": [
            "\r 92%|█████████▎| 370/400 [4:10:20<20:16, 40.56s/it]"
          ]
        },
        {
          "name": "stdout",
          "output_type": "stream",
          "text": [
            "Loss: 0.007310739252716303\n"
          ]
        },
        {
          "name": "stderr",
          "output_type": "stream",
          "text": [
            "\r 93%|█████████▎| 371/400 [4:11:00<19:35, 40.54s/it]"
          ]
        },
        {
          "name": "stdout",
          "output_type": "stream",
          "text": [
            "Loss: 0.013078096322715282\n"
          ]
        },
        {
          "name": "stderr",
          "output_type": "stream",
          "text": [
            "\r 93%|█████████▎| 372/400 [4:11:41<18:54, 40.53s/it]"
          ]
        },
        {
          "name": "stdout",
          "output_type": "stream",
          "text": [
            "Loss: 0.0075812251307070255\n"
          ]
        },
        {
          "name": "stderr",
          "output_type": "stream",
          "text": [
            "\r 93%|█████████▎| 373/400 [4:12:21<18:14, 40.55s/it]"
          ]
        },
        {
          "name": "stdout",
          "output_type": "stream",
          "text": [
            "Loss: 0.00566160399466753\n"
          ]
        },
        {
          "name": "stderr",
          "output_type": "stream",
          "text": [
            "\r 94%|█████████▎| 374/400 [4:13:02<17:34, 40.56s/it]"
          ]
        },
        {
          "name": "stdout",
          "output_type": "stream",
          "text": [
            "Loss: 0.015456865541636944\n"
          ]
        },
        {
          "name": "stderr",
          "output_type": "stream",
          "text": [
            "\r 94%|█████████▍| 375/400 [4:13:42<16:53, 40.53s/it]"
          ]
        },
        {
          "name": "stdout",
          "output_type": "stream",
          "text": [
            "Loss: 0.012240821495652199\n"
          ]
        },
        {
          "name": "stderr",
          "output_type": "stream",
          "text": [
            "\r 94%|█████████▍| 376/400 [4:14:23<16:12, 40.52s/it]"
          ]
        },
        {
          "name": "stdout",
          "output_type": "stream",
          "text": [
            "Loss: 0.012250121682882309\n"
          ]
        },
        {
          "name": "stderr",
          "output_type": "stream",
          "text": [
            "\r 94%|█████████▍| 377/400 [4:15:03<15:31, 40.50s/it]"
          ]
        },
        {
          "name": "stdout",
          "output_type": "stream",
          "text": [
            "Loss: 0.012948487885296345\n"
          ]
        },
        {
          "name": "stderr",
          "output_type": "stream",
          "text": [
            "\r 94%|█████████▍| 378/400 [4:15:44<14:50, 40.49s/it]"
          ]
        },
        {
          "name": "stdout",
          "output_type": "stream",
          "text": [
            "Loss: 0.00541763287037611\n"
          ]
        },
        {
          "name": "stderr",
          "output_type": "stream",
          "text": [
            "\r 95%|█████████▍| 379/400 [4:16:24<14:10, 40.49s/it]"
          ]
        },
        {
          "name": "stdout",
          "output_type": "stream",
          "text": [
            "Loss: 0.012108808383345604\n"
          ]
        },
        {
          "name": "stderr",
          "output_type": "stream",
          "text": [
            "\r 95%|█████████▌| 380/400 [4:17:05<13:29, 40.48s/it]"
          ]
        },
        {
          "name": "stdout",
          "output_type": "stream",
          "text": [
            "Loss: 0.009386333636939526\n"
          ]
        },
        {
          "name": "stderr",
          "output_type": "stream",
          "text": [
            "\r 95%|█████████▌| 381/400 [4:17:45<12:48, 40.47s/it]"
          ]
        },
        {
          "name": "stdout",
          "output_type": "stream",
          "text": [
            "Loss: 0.00827372632920742\n"
          ]
        },
        {
          "name": "stderr",
          "output_type": "stream",
          "text": [
            "\r 96%|█████████▌| 382/400 [4:18:26<12:08, 40.48s/it]"
          ]
        },
        {
          "name": "stdout",
          "output_type": "stream",
          "text": [
            "Loss: 0.008511926047503948\n"
          ]
        },
        {
          "name": "stderr",
          "output_type": "stream",
          "text": [
            "\r 96%|█████████▌| 383/400 [4:19:06<11:28, 40.48s/it]"
          ]
        },
        {
          "name": "stdout",
          "output_type": "stream",
          "text": [
            "Loss: 0.00891868770122528\n"
          ]
        },
        {
          "name": "stderr",
          "output_type": "stream",
          "text": [
            "\r 96%|█████████▌| 384/400 [4:19:47<10:47, 40.49s/it]"
          ]
        },
        {
          "name": "stdout",
          "output_type": "stream",
          "text": [
            "Loss: 0.006337456405162811\n"
          ]
        },
        {
          "name": "stderr",
          "output_type": "stream",
          "text": [
            "\r 96%|█████████▋| 385/400 [4:20:27<10:07, 40.47s/it]"
          ]
        },
        {
          "name": "stdout",
          "output_type": "stream",
          "text": [
            "Loss: 0.007425669580698013\n"
          ]
        },
        {
          "name": "stderr",
          "output_type": "stream",
          "text": [
            "\r 96%|█████████▋| 386/400 [4:21:08<09:26, 40.49s/it]"
          ]
        },
        {
          "name": "stdout",
          "output_type": "stream",
          "text": [
            "Loss: 0.007166959345340729\n"
          ]
        },
        {
          "name": "stderr",
          "output_type": "stream",
          "text": [
            "\r 97%|█████████▋| 387/400 [4:21:48<08:46, 40.47s/it]"
          ]
        },
        {
          "name": "stdout",
          "output_type": "stream",
          "text": [
            "Loss: 0.011466192081570625\n"
          ]
        },
        {
          "name": "stderr",
          "output_type": "stream",
          "text": [
            "\r 97%|█████████▋| 388/400 [4:22:29<08:05, 40.50s/it]"
          ]
        },
        {
          "name": "stdout",
          "output_type": "stream",
          "text": [
            "Loss: 0.009745555929839611\n"
          ]
        },
        {
          "name": "stderr",
          "output_type": "stream",
          "text": [
            "\r 97%|█████████▋| 389/400 [4:23:09<07:25, 40.50s/it]"
          ]
        },
        {
          "name": "stdout",
          "output_type": "stream",
          "text": [
            "Loss: 0.007785622961819172\n"
          ]
        },
        {
          "name": "stderr",
          "output_type": "stream",
          "text": [
            "\r 98%|█████████▊| 390/400 [4:23:50<06:44, 40.48s/it]"
          ]
        },
        {
          "name": "stdout",
          "output_type": "stream",
          "text": [
            "Loss: 0.011453716084361076\n"
          ]
        },
        {
          "name": "stderr",
          "output_type": "stream",
          "text": [
            "\r 98%|█████████▊| 391/400 [4:24:30<06:04, 40.50s/it]"
          ]
        },
        {
          "name": "stdout",
          "output_type": "stream",
          "text": [
            "Loss: 0.010473730973899364\n"
          ]
        },
        {
          "name": "stderr",
          "output_type": "stream",
          "text": [
            "\r 98%|█████████▊| 392/400 [4:25:11<05:23, 40.50s/it]"
          ]
        },
        {
          "name": "stdout",
          "output_type": "stream",
          "text": [
            "Loss: 0.006329509429633617\n"
          ]
        },
        {
          "name": "stderr",
          "output_type": "stream",
          "text": [
            "\r 98%|█████████▊| 393/400 [4:25:51<04:43, 40.50s/it]"
          ]
        },
        {
          "name": "stdout",
          "output_type": "stream",
          "text": [
            "Loss: 0.0055716694332659245\n"
          ]
        },
        {
          "name": "stderr",
          "output_type": "stream",
          "text": [
            "\r 98%|█████████▊| 394/400 [4:26:32<04:02, 40.47s/it]"
          ]
        },
        {
          "name": "stdout",
          "output_type": "stream",
          "text": [
            "Loss: 0.009843394160270691\n"
          ]
        },
        {
          "name": "stderr",
          "output_type": "stream",
          "text": [
            "\r 99%|█████████▉| 395/400 [4:27:12<03:22, 40.45s/it]"
          ]
        },
        {
          "name": "stdout",
          "output_type": "stream",
          "text": [
            "Loss: 0.01029913779348135\n"
          ]
        },
        {
          "name": "stderr",
          "output_type": "stream",
          "text": [
            "\r 99%|█████████▉| 396/400 [4:27:52<02:41, 40.45s/it]"
          ]
        },
        {
          "name": "stdout",
          "output_type": "stream",
          "text": [
            "Loss: 0.009931162931025028\n"
          ]
        },
        {
          "name": "stderr",
          "output_type": "stream",
          "text": [
            "\r 99%|█████████▉| 397/400 [4:28:33<02:01, 40.44s/it]"
          ]
        },
        {
          "name": "stdout",
          "output_type": "stream",
          "text": [
            "Loss: 0.011083535850048065\n"
          ]
        },
        {
          "name": "stderr",
          "output_type": "stream",
          "text": [
            "\r100%|█████████▉| 398/400 [4:29:13<01:20, 40.47s/it]"
          ]
        },
        {
          "name": "stdout",
          "output_type": "stream",
          "text": [
            "Loss: 0.010617202147841454\n"
          ]
        },
        {
          "name": "stderr",
          "output_type": "stream",
          "text": [
            "\r100%|█████████▉| 399/400 [4:29:54<00:40, 40.49s/it]"
          ]
        },
        {
          "name": "stdout",
          "output_type": "stream",
          "text": [
            "Loss: 0.006979340221732855\n"
          ]
        }
      ]
    },
    {
      "cell_type": "markdown",
      "metadata": {
        "id": "Dm0MJjzaz9PE"
      },
      "source": [
        "# Testing"
      ]
    },
    {
      "cell_type": "code",
      "metadata": {
        "id": "4xgTQFhR0bbR"
      },
      "source": [
        "!unzip /content/drive/MyDrive/processed.zip  -d /content/data/"
      ],
      "execution_count": null,
      "outputs": []
    },
    {
      "cell_type": "code",
      "metadata": {
        "colab": {
          "base_uri": "https://localhost:8080/"
        },
        "id": "AqNYww0BXQn4",
        "outputId": "af8bc89a-b8bf-48e3-9670-fd73ffd05216"
      },
      "source": [
        "LENGTH = 1500\n",
        "\n",
        "tokenizer = GBST(\n",
        "                num_tokens = 257,             # number of tokens, should be 256 for byte encoding (+ 1 special token for padding in this example)\n",
        "                dim = 512,                    # dimension of token and intra-block positional embedding\n",
        "                max_block_size = 4,           # maximum block size\n",
        "                downsample_factor = 4,        # the final downsample factor by which the sequence length will decrease by\n",
        "                score_consensus_attn = True   # whether to do the cheap score consensus (aka attention) as in eq. 5 in the paper\n",
        "                            )\n",
        "content = np.load('/content/content/processed/processed/23.npy')\n",
        "sentence = re.sub(r'[^a-zA-Z0-9\\', *\\u2019-]', '', content[0][0])\n",
        "nums = np.array([ord(x) for x in sentence])[np.newaxis,...]\n",
        "print(nums.shape)\n",
        "num_pad = np.array([np.pad(x, (0, LENGTH-len(x))) for x in nums], dtype=np.uint8)\n",
        "num_tensor = torch.Tensor(num_pad).int() #torch.tensor(nums, dtype=torch.int32).int()\n",
        "mask = torch.ones(1, LENGTH).bool()\n",
        "tokenizer(num_tensor, mask)"
      ],
      "execution_count": null,
      "outputs": [
        {
          "name": "stdout",
          "output_type": "stream",
          "text": [
            "(1, 301)\n"
          ]
        },
        {
          "data": {
            "text/plain": [
              "(tensor([[[-0.2593,  0.2007, -0.4296,  ..., -0.4094, -0.1355,  0.1387],\n",
              "          [-0.3552,  0.3135, -0.2614,  ..., -0.5194, -0.0745, -0.0489],\n",
              "          [ 0.0355,  0.1879, -0.6218,  ..., -0.3660, -0.0185, -0.0304],\n",
              "          ...,\n",
              "          [-0.3119,  0.4016,  0.2220,  ..., -0.2196,  0.2812, -0.0251],\n",
              "          [-0.3119,  0.4016,  0.2220,  ..., -0.2196,  0.2812, -0.0251],\n",
              "          [-0.3962,  0.3343, -0.0088,  ..., -0.1387,  0.1720,  0.1018]]],\n",
              "        grad_fn=<MaskedFillBackward0>),\n",
              " tensor([[True, True, True, True, True, True, True, True, True, True, True, True,\n",
              "          True, True, True, True, True, True, True, True, True, True, True, True,\n",
              "          True, True, True, True, True, True, True, True, True, True, True, True,\n",
              "          True, True, True, True, True, True, True, True, True, True, True, True,\n",
              "          True, True, True, True, True, True, True, True, True, True, True, True,\n",
              "          True, True, True, True, True, True, True, True, True, True, True, True,\n",
              "          True, True, True, True, True, True, True, True, True, True, True, True,\n",
              "          True, True, True, True, True, True, True, True, True, True, True, True,\n",
              "          True, True, True, True, True, True, True, True, True, True, True, True,\n",
              "          True, True, True, True, True, True, True, True, True, True, True, True,\n",
              "          True, True, True, True, True, True, True, True, True, True, True, True,\n",
              "          True, True, True, True, True, True, True, True, True, True, True, True,\n",
              "          True, True, True, True, True, True, True, True, True, True, True, True,\n",
              "          True, True, True, True, True, True, True, True, True, True, True, True,\n",
              "          True, True, True, True, True, True, True, True, True, True, True, True,\n",
              "          True, True, True, True, True, True, True, True, True, True, True, True,\n",
              "          True, True, True, True, True, True, True, True, True, True, True, True,\n",
              "          True, True, True, True, True, True, True, True, True, True, True, True,\n",
              "          True, True, True, True, True, True, True, True, True, True, True, True,\n",
              "          True, True, True, True, True, True, True, True, True, True, True, True,\n",
              "          True, True, True, True, True, True, True, True, True, True, True, True,\n",
              "          True, True, True, True, True, True, True, True, True, True, True, True,\n",
              "          True, True, True, True, True, True, True, True, True, True, True, True,\n",
              "          True, True, True, True, True, True, True, True, True, True, True, True,\n",
              "          True, True, True, True, True, True, True, True, True, True, True, True,\n",
              "          True, True, True, True, True, True, True, True, True, True, True, True,\n",
              "          True, True, True, True, True, True, True, True, True, True, True, True,\n",
              "          True, True, True, True, True, True, True, True, True, True, True, True,\n",
              "          True, True, True, True, True, True, True, True, True, True, True, True,\n",
              "          True, True, True, True, True, True, True, True, True, True, True, True,\n",
              "          True, True, True, True, True, True, True, True, True, True, True, True,\n",
              "          True, True, True]]))"
            ]
          },
          "execution_count": 42,
          "metadata": {},
          "output_type": "execute_result"
        }
      ]
    },
    {
      "cell_type": "code",
      "metadata": {
        "colab": {
          "base_uri": "https://localhost:8080/"
        },
        "id": "hDS0ZMOTb2fF",
        "outputId": "4ceb2faf-ca3a-41f8-80dc-3c3748b9cd5a"
      },
      "source": [
        "print(num_tensor)"
      ],
      "execution_count": null,
      "outputs": [
        {
          "name": "stdout",
          "output_type": "stream",
          "text": [
            "tensor([[ 72, 101,  32, 103, 111, 116,  32, 104, 105, 115,  32, 109, 111, 110,\n",
            "         101, 121,  32, 110, 111, 119,  32, 104, 101,  32, 108, 105, 101, 115,\n",
            "          32, 105, 110,  32, 119,  97, 105, 116,  32, 116, 105, 108, 108,  32,\n",
            "          97, 102, 116, 101, 114,  32, 116, 104, 101,  32, 101, 108, 101,  99,\n",
            "         116, 105, 111, 110,  32, 105, 110,  32,  50,  32, 121, 114, 115,  32,\n",
            "         100, 105, 114, 116, 121,  32, 112, 111, 108, 105, 116, 105,  99, 105,\n",
            "          97, 110, 115,  32, 110, 101, 101, 100,  32, 116, 111,  32,  98, 101,\n",
            "          32,  97, 102, 114,  97, 105, 100,  32, 111, 102,  32,  84,  97, 114,\n",
            "          32,  97, 110, 100,  32, 102, 101,  97, 116, 104, 101, 114, 115,  32,\n",
            "          97, 103,  97, 105, 110,  32,  98, 117, 116,  32, 116, 104, 101, 121,\n",
            "          32,  97, 114, 101, 110,  39, 116,  32,  97, 110, 100,  32, 115, 111,\n",
            "          32, 116, 104, 101,  32, 112, 101, 111, 112, 108, 101,  32, 103, 101,\n",
            "         116,  32, 115,  99, 114, 101, 119, 101, 100]], dtype=torch.int32)\n"
          ]
        }
      ]
    },
    {
      "cell_type": "code",
      "metadata": {
        "id": "NU6FVsVZz_IP"
      },
      "source": [
        "# Find max sentence length in file\n",
        "max_len = 0\n",
        "for i in range(1,201):\n",
        "    content = np.load('/data/processed/' + str(i) + '.npy')\n",
        "    for entry in content:\n",
        "        sent = re.sub(r'[^a-zA-Z0-9\\', *\\u2019-]', '', entry[0])\n",
        "        sent_len = len(sent)\n",
        "        if sent_len > max_len:\n",
        "            print(sent_len)\n",
        "            print(sent)\n",
        "            max_len = sent_len\n",
        "            max_sent = sent\n",
        "\n",
        "print(max_len)\n",
        "print(max_sent)"
      ],
      "execution_count": null,
      "outputs": []
    },
    {
      "cell_type": "code",
      "metadata": {
        "id": "bkXM8Emb53_O"
      },
      "source": [
        "# Find max sentence length in all files\n",
        "max_len = 0\n",
        "for i in range(1,200):\n",
        "    content = np.load('/data/processed/' + str(i) + '.npy')\n",
        "    for entry in content:\n",
        "        sent = re.sub(r'[^a-zA-Z0-9\\', *\\u2019-]', '', entry[0])\n",
        "        sent_len = len(sent)\n",
        "        if sent_len > max_len:\n",
        "            print(f\"FILE: {i}\")\n",
        "            print(sent_len)\n",
        "            print(sent)\n",
        "            max_len = sent_len\n",
        "            max_sent = sent\n",
        "        elif sent_len > 1023:\n",
        "            print(f\"FILE: {i}\")\n",
        "            print(sent_len)\n",
        "            print(sent)\n",
        "\n",
        "print(max_len)\n",
        "print(max_sent)"
      ],
      "execution_count": null,
      "outputs": []
    },
    {
      "cell_type": "markdown",
      "metadata": {
        "id": "NZpRCLwq_Lka"
      },
      "source": [
        "# Old"
      ]
    },
    {
      "cell_type": "code",
      "metadata": {
        "colab": {
          "base_uri": "https://localhost:8080/"
        },
        "id": "vFe1tPAUBDO8",
        "outputId": "d8f80dbd-81e3-4c82-bf1f-e5405cac35b5"
      },
      "source": [
        "!tar xvzf sv-en.tgz"
      ],
      "execution_count": null,
      "outputs": [
        {
          "name": "stdout",
          "output_type": "stream",
          "text": [
            "europarl-v7.sv-en.en\n",
            "europarl-v7.sv-en.sv\n"
          ]
        }
      ]
    },
    {
      "cell_type": "code",
      "metadata": {
        "id": "jifZhA6IBdNj"
      },
      "source": [
        "eng_full =\"\"\n",
        "swe_full = \"\"\n",
        "with open(\"/content/europarl-v7.sv-en.en\") as f:\n",
        "    eng_full = f.readlines()\n",
        "with open(\"/content/europarl-v7.sv-en.sv\") as f:\n",
        "    swe_full = f.readlines()\n",
        "\n",
        "eng_pract = eng_full[0:25]\n",
        "swe_pract = swe_full[0:25]"
      ],
      "execution_count": null,
      "outputs": []
    },
    {
      "cell_type": "code",
      "metadata": {
        "id": "y_k9fkd2bzX1"
      },
      "source": [
        "\n",
        "\n",
        "#tokenizer = GBST(\n",
        "#    num_tokens = 257,             # number of tokens, should be 256 for byte encoding (+ 1 special token for padding in this example)\n",
        "#    dim = 512,                    # dimension of token and intra-block positional embedding\n",
        "#    max_block_size = 4,           # maximum block size\n",
        "#    downsample_factor = 4,        # the final downsample factor by which the sequence length will decrease by\n",
        "#    score_consensus_attn = True   # whether to do the cheap score consensus (aka attention) as in eq. 5 in the paper\n",
        "#)\n",
        "#\n",
        "#tokens = torch.randint(0, 257, (1, 1023)) # uneven number of tokens (1023)\n",
        "#mask   = torch.ones(1, 1023).bool()\n",
        "#\n",
        "## both tokens and mask will be appropriately downsampled\n",
        "#\n",
        "#tokens, mask = tokenizer(tokens, mask = mask) # (1, 256, 512), (1, 256)\n",
        "#\n",
        "## now pass this on to your transformer"
      ],
      "execution_count": null,
      "outputs": []
    },
    {
      "cell_type": "code",
      "metadata": {
        "id": "wiMKPLpoqKNa"
      },
      "source": [
        "def b(str):\n",
        "    return bytes(str, 'utf-8')\n",
        "def b2(str):\n",
        "    return [ord(x) for x in str]\n",
        "\n",
        "class EngSweModel(torch.nn.Module):\n",
        "    def __init__(self):\n",
        "        super().__init__()\n",
        "        self.etokenizer = GBST(\n",
        "                num_tokens = 257,             # number of tokens, should be 256 for byte encoding (+ 1 special token for padding in this example)\n",
        "                dim = 512,                    # dimension of token and intra-block positional embedding\n",
        "                max_block_size = 4,           # maximum block size\n",
        "                downsample_factor = 4,        # the final downsample factor by which the sequence length will decrease by\n",
        "                score_consensus_attn = True   # whether to do the cheap score consensus (aka attention) as in eq. 5 in the paper\n",
        "                            )\n",
        "        self.stokenizer = GBST(\n",
        "                num_tokens = 257,             # number of tokens, should be 256 for byte encoding (+ 1 special token for padding in this example)\n",
        "                dim = 512,                    # dimension of token and intra-block positional embedding\n",
        "                max_block_size = 4,           # maximum block size\n",
        "                downsample_factor = 4,        # the final downsample factor by which the sequence length will decrease by\n",
        "                score_consensus_attn = True   # whether to do the cheap score consensus (aka attention) as in eq. 5 in the paper\n",
        "                            )\n",
        "        \"\"\"tokens = torch.randint(0, 257, (1, 1023)) # uneven number of tokens (1023)\n",
        "        mask   = torch.ones(1, 1023).bool()\n",
        "        tokens, mask = tokenizer(tokens, mask = mask)\"\"\"\n",
        "        # Initializing a BERT bert-base-uncased style configuration\n",
        "        config_encoder = BertConfig(vocab_size=257, hidden_size=512,num_attention_heads=8)\n",
        "        config_decoder = BertConfig(vocab_size=257, hidden_size=512,num_attention_heads=8)\n",
        "        config_decoder.is_decoder = True\n",
        "        config_decoder.add_cross_attention = True\n",
        "        config = EncoderDecoderConfig.from_encoder_decoder_configs(config_encoder, config_decoder)\n",
        "        # Initializing a Bert2Bert model from the bert-base-uncased style configurations\n",
        "        self.ed = EncoderDecoderModel(config=config)\n",
        "        #model = EncoderDecoderModel.from_pretrained('my-model', config=encoder_decoder_config)\n",
        "        #self.T5 = T5Model(T5Config(vocab_size=257))\n",
        "        #self.ed = EncoderDecoderModel(encoder=self.T5.encoder,decoder=self.T5.decoder)\n",
        "        self.emask = torch.ones(1, 1023).bool()\n",
        "        self.smask = torch.ones(1, 1023).bool()\n",
        "\n",
        "    def forward(self,  eng, swe):\n",
        "        x, self.emask = self.etokenizer(eng, self.emask)\n",
        "        y, self.smask = self.stokenizer(swe, self.smask)\n",
        "\n",
        "        x = x.int()\n",
        "        y = y.int()\n",
        "        print(x.shape)\n",
        "\n",
        "\n",
        "        return self.ed(inputs_embeds=x, attention_mask=self.emask, decoder_inputs_embeds=y, decoder_attention_mask=self.smask).last_hidden_state\n"
      ],
      "execution_count": null,
      "outputs": []
    },
    {
      "cell_type": "code",
      "metadata": {
        "colab": {
          "base_uri": "https://localhost:8080/",
          "height": 270
        },
        "id": "6zYBM_dTySa_",
        "outputId": "bd80e6a5-2073-4934-ddc8-5acd2daddfce"
      },
      "source": [
        "model = EngSweModel()\n",
        "#print(model)\n",
        "\n",
        "# TODO Iterator for batch size X seq_len val, train, and test sets\n",
        "optim = torch.optim.SGD(model.parameters(), lr=1.0)\n",
        "scheduler = torch.optim.lr_scheduler.StepLR(optim, 1, gamma=0.9)\n",
        "\n",
        "# def train_model(eng,swe, model):\n",
        "#     prediction = model.forward(eng,swe)\n",
        "#     optim.zero_grad()\n",
        "#     loss = F.cross_entropy(prediction, swe)\n",
        "#     loss.backward()\n",
        "#     optim.step()\n",
        "def train_model(eng,swe, model):\n",
        "    prediction = model.forward(eng,swe)\n",
        "    optim.zero_grad()\n",
        "    s, smask = model.stokenizer(swe, model.smask)\n",
        "    loss = F.cross_entropy(prediction, s)\n",
        "    loss.backward()\n",
        "    optim.step()\n",
        "\n",
        "def val_model(eng,swe, model):\n",
        "    # TODO\n",
        "    pass\n",
        "\n",
        "\n",
        "\"\"\"eng = np.array()\n",
        "swe = np.array([b2(y) for y in swe_pract])\n",
        "print(eng[0])\"\"\"\n",
        "\n",
        "# barely trust this\n",
        "swe_int = [b2(y) for y in swe_pract]\n",
        "#print(np.array(swe_int))\n",
        "eng_int = [b2(y) for y in eng_pract]\n",
        "\n",
        "max_lene = max([len(x) for x in eng_pract])\n",
        "max_lens = max([len(x) for x in swe_pract])\n",
        "\n",
        "even_len = 1023\n",
        "\n",
        "swe_pad = np.array([np.pad(x, (0, even_len-len(x))) for x in swe_int], dtype=np.uint8)\n",
        "#print(swe_pad.shape)\n",
        "eng_pad = np.array([np.pad(x, (0, even_len-len(x))) for x in eng_int], dtype=np.uint8)\n",
        "\n",
        "\n",
        "swe = torch.Tensor(swe_pad).int()\n",
        "eng = torch.Tensor(eng_pad).int()\n",
        "\n",
        "\n",
        "\"\"\"print(swe_set)\n",
        "swe = torch.Tensor([b(y) for y in swe_pract])\n",
        "eng = torch.Tensor([b(y) for y in eng_pract])\n",
        "\"\"\"\n",
        "print(eng.shape)\n",
        "#print(eng[1200:2223].shape)\n",
        "swe_ax = torch.Tensor(swe_pad[...,np.newaxis]).int()\n",
        "eng_ax = torch.Tensor(eng_pad[...,np.newaxis]).int()\n",
        "#print(swe_ax.shape)\n",
        "\n",
        "for i in range (0,10):\n",
        "    train_model(eng,swe, model)\n",
        "\n",
        "prediction = model.forward(eng_pad[1200:2223], swe_pad[1200:2223])\n",
        "print(prediction)\n",
        "    \n"
      ],
      "execution_count": null,
      "outputs": [
        {
          "ename": "NameError",
          "evalue": "ignored",
          "output_type": "error",
          "traceback": [
            "\u001b[0;31m---------------------------------------------------------------------------\u001b[0m",
            "\u001b[0;31mNameError\u001b[0m                                 Traceback (most recent call last)",
            "\u001b[0;32m<ipython-input-1-d2a04d4f5dbd>\u001b[0m in \u001b[0;36m<module>\u001b[0;34m()\u001b[0m\n\u001b[0;32m----> 1\u001b[0;31m \u001b[0mmodel\u001b[0m \u001b[0;34m=\u001b[0m \u001b[0mEngSweModel\u001b[0m\u001b[0;34m(\u001b[0m\u001b[0;34m)\u001b[0m\u001b[0;34m\u001b[0m\u001b[0;34m\u001b[0m\u001b[0m\n\u001b[0m\u001b[1;32m      2\u001b[0m \u001b[0;31m#print(model)\u001b[0m\u001b[0;34m\u001b[0m\u001b[0;34m\u001b[0m\u001b[0;34m\u001b[0m\u001b[0m\n\u001b[1;32m      3\u001b[0m \u001b[0;34m\u001b[0m\u001b[0m\n\u001b[1;32m      4\u001b[0m \u001b[0;31m# TODO Iterator for batch size X seq_len val, train, and test sets\u001b[0m\u001b[0;34m\u001b[0m\u001b[0;34m\u001b[0m\u001b[0;34m\u001b[0m\u001b[0m\n\u001b[1;32m      5\u001b[0m \u001b[0moptim\u001b[0m \u001b[0;34m=\u001b[0m \u001b[0mtorch\u001b[0m\u001b[0;34m.\u001b[0m\u001b[0moptim\u001b[0m\u001b[0;34m.\u001b[0m\u001b[0mSGD\u001b[0m\u001b[0;34m(\u001b[0m\u001b[0mmodel\u001b[0m\u001b[0;34m.\u001b[0m\u001b[0mparameters\u001b[0m\u001b[0;34m(\u001b[0m\u001b[0;34m)\u001b[0m\u001b[0;34m,\u001b[0m \u001b[0mlr\u001b[0m\u001b[0;34m=\u001b[0m\u001b[0;36m1.0\u001b[0m\u001b[0;34m)\u001b[0m\u001b[0;34m\u001b[0m\u001b[0;34m\u001b[0m\u001b[0m\n",
            "\u001b[0;31mNameError\u001b[0m: name 'EngSweModel' is not defined"
          ]
        }
      ]
    },
    {
      "cell_type": "code",
      "metadata": {
        "colab": {
          "base_uri": "https://localhost:8080/"
        },
        "id": "PGgmw8IXnfYI",
        "outputId": "42b001af-af6a-4ac9-aa46-8c5ae9151449"
      },
      "source": [
        "print(len(eng_pract),len(swe_pract))"
      ],
      "execution_count": null,
      "outputs": [
        {
          "name": "stdout",
          "output_type": "stream",
          "text": [
            "25 25\n"
          ]
        }
      ]
    },
    {
      "cell_type": "code",
      "metadata": {
        "colab": {
          "base_uri": "https://localhost:8080/"
        },
        "id": "d3Jq77zYFUIO",
        "outputId": "0cbca18c-f621-4adb-d9e3-a27746eafc4a"
      },
      "source": [
        "ord('Å')"
      ],
      "execution_count": null,
      "outputs": [
        {
          "data": {
            "text/plain": [
              "197"
            ]
          },
          "execution_count": 21,
          "metadata": {},
          "output_type": "execute_result"
        }
      ]
    },
    {
      "cell_type": "markdown",
      "metadata": {
        "id": "XxVUrPXi0zvI"
      },
      "source": [
        "# Tensorflow Attempt"
      ]
    },
    {
      "cell_type": "code",
      "metadata": {
        "id": "jDFszn0r-ZvW"
      },
      "source": [
        "from IPython.display import clear_output"
      ],
      "execution_count": null,
      "outputs": []
    },
    {
      "cell_type": "code",
      "metadata": {
        "id": "xL4Frdbd-RGo"
      },
      "source": [
        "!pip install t5[gcp]\n",
        "clear_output(wait=False)"
      ],
      "execution_count": null,
      "outputs": []
    },
    {
      "cell_type": "code",
      "metadata": {
        "colab": {
          "base_uri": "https://localhost:8080/"
        },
        "id": "fhLQ6yIV1EjX",
        "outputId": "5a992913-982b-4526-d36f-13dfe35057a5"
      },
      "source": [
        "!pip install mesh-tensorflow\n",
        "clear_output(wait=False)"
      ],
      "execution_count": null,
      "outputs": [
        {
          "name": "stdout",
          "output_type": "stream",
          "text": [
            "Requirement already satisfied: mesh-tensorflow in /usr/local/lib/python3.7/dist-packages (0.1.19)\n",
            "Requirement already satisfied: six in /usr/local/lib/python3.7/dist-packages (from mesh-tensorflow) (1.15.0)\n",
            "Requirement already satisfied: gin-config in /usr/local/lib/python3.7/dist-packages (from mesh-tensorflow) (0.5.0)\n",
            "Requirement already satisfied: future in /usr/local/lib/python3.7/dist-packages (from mesh-tensorflow) (0.16.0)\n",
            "Requirement already satisfied: absl-py in /usr/local/lib/python3.7/dist-packages (from mesh-tensorflow) (0.12.0)\n"
          ]
        }
      ]
    },
    {
      "cell_type": "code",
      "metadata": {
        "id": "HUsT21cr-Zye"
      },
      "source": [
        "model = t5.from_pretrained()"
      ],
      "execution_count": null,
      "outputs": []
    },
    {
      "cell_type": "code",
      "metadata": {
        "colab": {
          "base_uri": "https://localhost:8080/"
        },
        "id": "7_LADRtmhz8x",
        "outputId": "9c4dbf97-c555-4f15-f1ce-77a2f5a23a8f"
      },
      "source": [
        "!unzip /content/transformer.zip -d /usr/local/lib/python3.7/dist-packages/mesh_tensorflow/transformer\n",
        "clear_output(wait=False)"
      ],
      "execution_count": null,
      "outputs": [
        {
          "name": "stdout",
          "output_type": "stream",
          "text": [
            "Archive:  /content/transformer.zip\n",
            "  inflating: /usr/local/lib/python3.7/dist-packages/mesh_tensorflow/transformer/cf_v2_d2_cv_base.gin  \n",
            "  inflating: /usr/local/lib/python3.7/dist-packages/mesh_tensorflow/transformer/cf_v2_d3_cv_base.gin  \n",
            "  inflating: /usr/local/lib/python3.7/dist-packages/mesh_tensorflow/transformer/charformer_layers.py  \n",
            "  inflating: /usr/local/lib/python3.7/dist-packages/mesh_tensorflow/transformer/custom_attention.py  \n",
            "replace /usr/local/lib/python3.7/dist-packages/mesh_tensorflow/transformer/transformer.py? [y]es, [n]o, [A]ll, [N]one, [r]ename: A\n",
            "  inflating: /usr/local/lib/python3.7/dist-packages/mesh_tensorflow/transformer/transformer.py  \n"
          ]
        }
      ]
    },
    {
      "cell_type": "code",
      "metadata": {
        "id": "IjtcT3YG6u9o"
      },
      "source": [
        "!mv /usr/local/lib/python3.7/dist-packages/mesh_tensorflow/transformer/gin/cf_v2_d2_cv_base.gin /usr/local/lib/python3.7/dist-packages/t5/models/gin/models\n",
        "!mv /usr/local/lib/python3.7/dist-packages/mesh_tensorflow/transformer/gin/cf_v2_d3_cv_base.gin /usr/local/lib/python3.7/dist-packages/t5/models/gin/models"
      ],
      "execution_count": null,
      "outputs": []
    },
    {
      "cell_type": "code",
      "metadata": {
        "id": "Oy11LQIV01yx"
      },
      "source": [
        "import tensorflow as tf\n",
        "import mesh_tensorflow as mtf\n"
      ],
      "execution_count": null,
      "outputs": []
    },
    {
      "cell_type": "code",
      "metadata": {
        "id": "vvrT74kg07-F"
      },
      "source": [
        ""
      ],
      "execution_count": null,
      "outputs": []
    },
    {
      "cell_type": "code",
      "metadata": {
        "id": "fvMaBV-_1YGJ"
      },
      "source": [
        ""
      ],
      "execution_count": null,
      "outputs": []
    }
  ]
}